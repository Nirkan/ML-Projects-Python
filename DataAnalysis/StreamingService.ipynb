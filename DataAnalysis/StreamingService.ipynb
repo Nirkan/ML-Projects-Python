{
 "cells": [
  {
   "cell_type": "code",
   "execution_count": 1,
   "metadata": {},
   "outputs": [
    {
     "data": {
      "text/html": [
       "<div>\n",
       "<style scoped>\n",
       "    .dataframe tbody tr th:only-of-type {\n",
       "        vertical-align: middle;\n",
       "    }\n",
       "\n",
       "    .dataframe tbody tr th {\n",
       "        vertical-align: top;\n",
       "    }\n",
       "\n",
       "    .dataframe thead th {\n",
       "        text-align: right;\n",
       "    }\n",
       "</style>\n",
       "<table border=\"1\" class=\"dataframe\">\n",
       "  <thead>\n",
       "    <tr style=\"text-align: right;\">\n",
       "      <th></th>\n",
       "      <th>Unnamed: 0</th>\n",
       "      <th>Title</th>\n",
       "      <th>Year</th>\n",
       "      <th>Age</th>\n",
       "      <th>IMDb</th>\n",
       "      <th>Rotten Tomatoes</th>\n",
       "      <th>Netflix</th>\n",
       "      <th>Hulu</th>\n",
       "      <th>Prime Video</th>\n",
       "      <th>Disney+</th>\n",
       "      <th>type</th>\n",
       "    </tr>\n",
       "  </thead>\n",
       "  <tbody>\n",
       "    <tr>\n",
       "      <th>0</th>\n",
       "      <td>0</td>\n",
       "      <td>Breaking Bad</td>\n",
       "      <td>2008</td>\n",
       "      <td>18+</td>\n",
       "      <td>9.5</td>\n",
       "      <td>96%</td>\n",
       "      <td>1</td>\n",
       "      <td>0</td>\n",
       "      <td>0</td>\n",
       "      <td>0</td>\n",
       "      <td>1</td>\n",
       "    </tr>\n",
       "    <tr>\n",
       "      <th>1</th>\n",
       "      <td>1</td>\n",
       "      <td>Stranger Things</td>\n",
       "      <td>2016</td>\n",
       "      <td>16+</td>\n",
       "      <td>8.8</td>\n",
       "      <td>93%</td>\n",
       "      <td>1</td>\n",
       "      <td>0</td>\n",
       "      <td>0</td>\n",
       "      <td>0</td>\n",
       "      <td>1</td>\n",
       "    </tr>\n",
       "    <tr>\n",
       "      <th>2</th>\n",
       "      <td>2</td>\n",
       "      <td>Money Heist</td>\n",
       "      <td>2017</td>\n",
       "      <td>18+</td>\n",
       "      <td>8.4</td>\n",
       "      <td>91%</td>\n",
       "      <td>1</td>\n",
       "      <td>0</td>\n",
       "      <td>0</td>\n",
       "      <td>0</td>\n",
       "      <td>1</td>\n",
       "    </tr>\n",
       "    <tr>\n",
       "      <th>3</th>\n",
       "      <td>3</td>\n",
       "      <td>Sherlock</td>\n",
       "      <td>2010</td>\n",
       "      <td>16+</td>\n",
       "      <td>9.1</td>\n",
       "      <td>78%</td>\n",
       "      <td>1</td>\n",
       "      <td>0</td>\n",
       "      <td>0</td>\n",
       "      <td>0</td>\n",
       "      <td>1</td>\n",
       "    </tr>\n",
       "    <tr>\n",
       "      <th>4</th>\n",
       "      <td>4</td>\n",
       "      <td>Better Call Saul</td>\n",
       "      <td>2015</td>\n",
       "      <td>18+</td>\n",
       "      <td>8.7</td>\n",
       "      <td>97%</td>\n",
       "      <td>1</td>\n",
       "      <td>0</td>\n",
       "      <td>0</td>\n",
       "      <td>0</td>\n",
       "      <td>1</td>\n",
       "    </tr>\n",
       "  </tbody>\n",
       "</table>\n",
       "</div>"
      ],
      "text/plain": [
       "   Unnamed: 0             Title  Year  Age  IMDb Rotten Tomatoes  Netflix  \\\n",
       "0           0      Breaking Bad  2008  18+   9.5             96%        1   \n",
       "1           1   Stranger Things  2016  16+   8.8             93%        1   \n",
       "2           2       Money Heist  2017  18+   8.4             91%        1   \n",
       "3           3          Sherlock  2010  16+   9.1             78%        1   \n",
       "4           4  Better Call Saul  2015  18+   8.7             97%        1   \n",
       "\n",
       "   Hulu  Prime Video  Disney+  type  \n",
       "0     0            0        0     1  \n",
       "1     0            0        0     1  \n",
       "2     0            0        0     1  \n",
       "3     0            0        0     1  \n",
       "4     0            0        0     1  "
      ]
     },
     "execution_count": 1,
     "metadata": {},
     "output_type": "execute_result"
    }
   ],
   "source": [
    "import numpy as np\n",
    "import pandas as pd\n",
    "\n",
    "import plotly\n",
    "import plotly.express as px\n",
    "from plotly.subplots import make_subplots\n",
    "import seaborn as sns\n",
    "import matplotlib.pyplot as plt\n",
    "\n",
    "tv_shows = pd.read_csv('tv_shows.csv')\n",
    "tv_shows.head()"
   ]
  },
  {
   "cell_type": "code",
   "execution_count": 12,
   "metadata": {},
   "outputs": [],
   "source": [
    "tv_shows.drop_duplicates(subset=\"Title\", keep='first', inplace=True)\n"
   ]
  },
  {
   "cell_type": "code",
   "execution_count": 13,
   "metadata": {},
   "outputs": [],
   "source": [
    "tv_shows['Rotten Tomatoes'] = tv_shows['Rotten Tomatoes'].fillna('0%')\n",
    "#tv_shows['Rotten Tomatoes'] = tv_shows['Rotten Tomatoes'].apply(lambda x : x.rstrip('%'))\n",
    "tv_shows['Rotten Tomatoes'] = pd.to_numeric(tv_shows['Rotten Tomatoes'])\n",
    "\n",
    "tv_shows['IMDb'] = tv_shows['IMDb'].fillna(0)\n",
    "tv_shows['IMDb'] = tv_shows['IMDb']*10\n",
    "tv_shows['IMDb'] = tv_shows['IMDb'].astype('int')"
   ]
  },
  {
   "cell_type": "code",
   "execution_count": 14,
   "metadata": {},
   "outputs": [
    {
     "data": {
      "text/html": [
       "<div>\n",
       "<style scoped>\n",
       "    .dataframe tbody tr th:only-of-type {\n",
       "        vertical-align: middle;\n",
       "    }\n",
       "\n",
       "    .dataframe tbody tr th {\n",
       "        vertical-align: top;\n",
       "    }\n",
       "\n",
       "    .dataframe thead th {\n",
       "        text-align: right;\n",
       "    }\n",
       "</style>\n",
       "<table border=\"1\" class=\"dataframe\">\n",
       "  <thead>\n",
       "    <tr style=\"text-align: right;\">\n",
       "      <th></th>\n",
       "      <th>Unnamed: 0</th>\n",
       "      <th>Title</th>\n",
       "      <th>Year</th>\n",
       "      <th>Age</th>\n",
       "      <th>IMDb</th>\n",
       "      <th>Rotten Tomatoes</th>\n",
       "      <th>Netflix</th>\n",
       "      <th>Hulu</th>\n",
       "      <th>Prime Video</th>\n",
       "      <th>Disney+</th>\n",
       "      <th>type</th>\n",
       "    </tr>\n",
       "  </thead>\n",
       "  <tbody>\n",
       "    <tr>\n",
       "      <th>0</th>\n",
       "      <td>0</td>\n",
       "      <td>Breaking Bad</td>\n",
       "      <td>2008</td>\n",
       "      <td>18+</td>\n",
       "      <td>9500</td>\n",
       "      <td>96</td>\n",
       "      <td>1</td>\n",
       "      <td>0</td>\n",
       "      <td>0</td>\n",
       "      <td>0</td>\n",
       "      <td>1</td>\n",
       "    </tr>\n",
       "    <tr>\n",
       "      <th>1</th>\n",
       "      <td>1</td>\n",
       "      <td>Stranger Things</td>\n",
       "      <td>2016</td>\n",
       "      <td>16+</td>\n",
       "      <td>8800</td>\n",
       "      <td>93</td>\n",
       "      <td>1</td>\n",
       "      <td>0</td>\n",
       "      <td>0</td>\n",
       "      <td>0</td>\n",
       "      <td>1</td>\n",
       "    </tr>\n",
       "    <tr>\n",
       "      <th>2</th>\n",
       "      <td>2</td>\n",
       "      <td>Money Heist</td>\n",
       "      <td>2017</td>\n",
       "      <td>18+</td>\n",
       "      <td>8400</td>\n",
       "      <td>91</td>\n",
       "      <td>1</td>\n",
       "      <td>0</td>\n",
       "      <td>0</td>\n",
       "      <td>0</td>\n",
       "      <td>1</td>\n",
       "    </tr>\n",
       "    <tr>\n",
       "      <th>3</th>\n",
       "      <td>3</td>\n",
       "      <td>Sherlock</td>\n",
       "      <td>2010</td>\n",
       "      <td>16+</td>\n",
       "      <td>9100</td>\n",
       "      <td>78</td>\n",
       "      <td>1</td>\n",
       "      <td>0</td>\n",
       "      <td>0</td>\n",
       "      <td>0</td>\n",
       "      <td>1</td>\n",
       "    </tr>\n",
       "    <tr>\n",
       "      <th>4</th>\n",
       "      <td>4</td>\n",
       "      <td>Better Call Saul</td>\n",
       "      <td>2015</td>\n",
       "      <td>18+</td>\n",
       "      <td>8700</td>\n",
       "      <td>97</td>\n",
       "      <td>1</td>\n",
       "      <td>0</td>\n",
       "      <td>0</td>\n",
       "      <td>0</td>\n",
       "      <td>1</td>\n",
       "    </tr>\n",
       "  </tbody>\n",
       "</table>\n",
       "</div>"
      ],
      "text/plain": [
       "   Unnamed: 0             Title  Year  Age  IMDb  Rotten Tomatoes  Netflix  \\\n",
       "0           0      Breaking Bad  2008  18+  9500               96        1   \n",
       "1           1   Stranger Things  2016  16+  8800               93        1   \n",
       "2           2       Money Heist  2017  18+  8400               91        1   \n",
       "3           3          Sherlock  2010  16+  9100               78        1   \n",
       "4           4  Better Call Saul  2015  18+  8700               97        1   \n",
       "\n",
       "   Hulu  Prime Video  Disney+  type  \n",
       "0     0            0        0     1  \n",
       "1     0            0        0     1  \n",
       "2     0            0        0     1  \n",
       "3     0            0        0     1  \n",
       "4     0            0        0     1  "
      ]
     },
     "execution_count": 14,
     "metadata": {},
     "output_type": "execute_result"
    }
   ],
   "source": [
    "tv_shows.head()"
   ]
  },
  {
   "cell_type": "code",
   "execution_count": 22,
   "metadata": {},
   "outputs": [
    {
     "data": {
      "text/html": [
       "<div>\n",
       "<style scoped>\n",
       "    .dataframe tbody tr th:only-of-type {\n",
       "        vertical-align: middle;\n",
       "    }\n",
       "\n",
       "    .dataframe tbody tr th {\n",
       "        vertical-align: top;\n",
       "    }\n",
       "\n",
       "    .dataframe thead th {\n",
       "        text-align: right;\n",
       "    }\n",
       "</style>\n",
       "<table border=\"1\" class=\"dataframe\">\n",
       "  <thead>\n",
       "    <tr style=\"text-align: right;\">\n",
       "      <th></th>\n",
       "      <th>Title</th>\n",
       "      <th>StreamingOn</th>\n",
       "    </tr>\n",
       "  </thead>\n",
       "  <tbody>\n",
       "    <tr>\n",
       "      <th>0</th>\n",
       "      <td>Breaking Bad</td>\n",
       "      <td>Netflix</td>\n",
       "    </tr>\n",
       "    <tr>\n",
       "      <th>1</th>\n",
       "      <td>Stranger Things</td>\n",
       "      <td>Netflix</td>\n",
       "    </tr>\n",
       "    <tr>\n",
       "      <th>2</th>\n",
       "      <td>Money Heist</td>\n",
       "      <td>Netflix</td>\n",
       "    </tr>\n",
       "    <tr>\n",
       "      <th>3</th>\n",
       "      <td>Sherlock</td>\n",
       "      <td>Netflix</td>\n",
       "    </tr>\n",
       "    <tr>\n",
       "      <th>4</th>\n",
       "      <td>Better Call Saul</td>\n",
       "      <td>Netflix</td>\n",
       "    </tr>\n",
       "  </tbody>\n",
       "</table>\n",
       "</div>"
      ],
      "text/plain": [
       "              Title StreamingOn\n",
       "0      Breaking Bad     Netflix\n",
       "1   Stranger Things     Netflix\n",
       "2       Money Heist     Netflix\n",
       "3          Sherlock     Netflix\n",
       "4  Better Call Saul     Netflix"
      ]
     },
     "execution_count": 22,
     "metadata": {},
     "output_type": "execute_result"
    }
   ],
   "source": [
    "tv_shows_long = pd.melt(tv_shows[['Title', 'Netflix', 'Hulu', 'Disney+', 'Prime Video']], id_vars=['Title'],\n",
    "                       var_name='StreamingOn', value_name='Present')\n",
    "tv_shows_long = tv_shows_long[tv_shows_long['Present'] == 1]\n",
    "tv_shows_long.drop(columns=['Present'], inplace=True)\n",
    "tv_shows_long.head()"
   ]
  },
  {
   "cell_type": "code",
   "execution_count": 17,
   "metadata": {},
   "outputs": [],
   "source": [
    "tv_shows_combined = tv_shows_long.merge(tv_shows, on='Title', how='inner')\n",
    "tv_shows_combined.drop(columns = ['Unnamed: 0', 'Netflix',\n",
    "                                 'Hulu', 'Prime Video', 'Disney+', 'type'], inplace=True)"
   ]
  },
  {
   "cell_type": "code",
   "execution_count": 19,
   "metadata": {},
   "outputs": [
    {
     "data": {
      "text/plain": [
       "<matplotlib.axes._subplots.AxesSubplot at 0x7f9ed27a4588>"
      ]
     },
     "execution_count": 19,
     "metadata": {},
     "output_type": "execute_result"
    },
    {
     "data": {
      "image/png": "[encoded data removed]",
      "text/plain": [
       "<Figure size 432x288 with 1 Axes>"
      ]
     },
     "metadata": {
      "needs_background": "light"
     },
     "output_type": "display_data"
    }
   ],
   "source": [
    "tv_shows_both_ratings = tv_shows_combined[(tv_shows_combined.IMDb > 0) & tv_shows_combined['Rotten Tomatoes'] > 0]\n",
    "tv_shows_combined.groupby('StreamingOn').Title.count().plot(kind='bar')"
   ]
  },
  {
   "cell_type": "code",
   "execution_count": 25,
   "metadata": {},
   "outputs": [
    {
     "data": {
      "application/vnd.plotly.v1+json": {
       "config": {
        "plotlyServerURL": "https://plot.ly"
       },
       "data": [
        {
         "alignmentgroup": "True",
         "box": {
          "visible": false
         },
         "hovertemplate": "StreamingOn=%{x}<br>IMDb=%{y}<extra></extra>",
         "legendgroup": "Netflix",
         "marker": {
          "color": "#636efa"
         },
         "name": "Netflix",
         "offsetgroup": "Netflix",
         "orientation": "v",
         "scalegroup": "True",
         "showlegend": true,
         "type": "violin",
         "x": [
          "Netflix",
          "Netflix",
          "Netflix",
          "Netflix",
          "Netflix",
          "Netflix",
          "Netflix",
          "Netflix",
          "Netflix",
          "Netflix",
          "Netflix",
          "Netflix",
          "Netflix",
          "Netflix",
          "Netflix",
          "Netflix",
          "Netflix",
          "Netflix",
          "Netflix",
          "Netflix",
          "Netflix",
          "Netflix",
          "Netflix",
          "Netflix",
          "Netflix",
          "Netflix",
          "Netflix",
          "Netflix",
          "Netflix",
          "Netflix",
          "Netflix",
          "Netflix",
          "Netflix",
          "Netflix",
          "Netflix",
          "Netflix",
          "Netflix",
          "Netflix",
          "Netflix",
          "Netflix",
          "Netflix",
          "Netflix",
          "Netflix",
          "Netflix",
          "Netflix",
          "Netflix",
          "Netflix",
          "Netflix",
          "Netflix",
          "Netflix",
          "Netflix",
          "Netflix",
          "Netflix",
          "Netflix",
          "Netflix",
          "Netflix",
          "Netflix",
          "Netflix",
          "Netflix",
          "Netflix",
          "Netflix",
          "Netflix",
          "Netflix",
          "Netflix",
          "Netflix",
          "Netflix",
          "Netflix",
          "Netflix",
          "Netflix",
          "Netflix",
          "Netflix",
          "Netflix",
          "Netflix",
          "Netflix",
          "Netflix",
          "Netflix",
          "Netflix",
          "Netflix",
          "Netflix",
          "Netflix",
          "Netflix",
          "Netflix",
          "Netflix",
          "Netflix",
          "Netflix",
          "Netflix",
          "Netflix",
          "Netflix",
          "Netflix",
          "Netflix",
          "Netflix",
          "Netflix",
          "Netflix",
          "Netflix",
          "Netflix",
          "Netflix",
          "Netflix",
          "Netflix",
          "Netflix",
          "Netflix",
          "Netflix",
          "Netflix",
          "Netflix",
          "Netflix",
          "Netflix",
          "Netflix",
          "Netflix",
          "Netflix",
          "Netflix",
          "Netflix",
          "Netflix",
          "Netflix",
          "Netflix",
          "Netflix",
          "Netflix",
          "Netflix",
          "Netflix",
          "Netflix",
          "Netflix",
          "Netflix",
          "Netflix",
          "Netflix",
          "Netflix",
          "Netflix",
          "Netflix",
          "Netflix",
          "Netflix",
          "Netflix",
          "Netflix",
          "Netflix",
          "Netflix",
          "Netflix",
          "Netflix",
          "Netflix",
          "Netflix",
          "Netflix",
          "Netflix",
          "Netflix",
          "Netflix",
          "Netflix",
          "Netflix",
          "Netflix",
          "Netflix",
          "Netflix",
          "Netflix",
          "Netflix",
          "Netflix",
          "Netflix",
          "Netflix",
          "Netflix",
          "Netflix",
          "Netflix",
          "Netflix",
          "Netflix",
          "Netflix",
          "Netflix",
          "Netflix",
          "Netflix",
          "Netflix",
          "Netflix",
          "Netflix",
          "Netflix",
          "Netflix",
          "Netflix",
          "Netflix",
          "Netflix",
          "Netflix",
          "Netflix",
          "Netflix",
          "Netflix",
          "Netflix",
          "Netflix",
          "Netflix",
          "Netflix",
          "Netflix",
          "Netflix",
          "Netflix",
          "Netflix",
          "Netflix",
          "Netflix",
          "Netflix",
          "Netflix",
          "Netflix",
          "Netflix",
          "Netflix",
          "Netflix",
          "Netflix",
          "Netflix",
          "Netflix",
          "Netflix",
          "Netflix",
          "Netflix",
          "Netflix",
          "Netflix",
          "Netflix"
         ],
         "x0": " ",
         "xaxis": "x",
         "y": [
          8800,
          8400,
          8700,
          8900,
          8800,
          8400,
          8200,
          8400,
          8800,
          8600,
          8300,
          8800,
          8400,
          8600,
          8200,
          8700,
          8000,
          7700,
          8400,
          8200,
          7600,
          8100,
          8700,
          7700,
          8700,
          7600,
          8700,
          8000,
          8200,
          8100,
          8400,
          8100,
          7400,
          8400,
          7600,
          8500,
          7800,
          8600,
          8000,
          8000,
          7900,
          8500,
          8400,
          8100,
          8800,
          8200,
          8300,
          8200,
          9300,
          7800,
          7600,
          7900,
          7700,
          8100,
          7900,
          8000,
          8300,
          8000,
          7800,
          8300,
          7300,
          7700,
          8200,
          6800,
          8100,
          7100,
          7400,
          7800,
          8200,
          7800,
          7800,
          8500,
          8300,
          7300,
          7700,
          8400,
          7500,
          8100,
          8100,
          7300,
          8400,
          7200,
          8300,
          7300,
          7900,
          8000,
          8500,
          7500,
          7900,
          7800,
          7700,
          7200,
          8400,
          8200,
          7500,
          8500,
          7700,
          8100,
          8100,
          7700,
          7400,
          8100,
          8200,
          7700,
          8400,
          7900,
          6700,
          6800,
          7300,
          6500,
          8000,
          7500,
          8300,
          7800,
          7100,
          7000,
          7300,
          7300,
          7500,
          7400,
          7600,
          7200,
          7500,
          7000,
          7700,
          7700,
          7400,
          6100,
          8500,
          7500,
          6000,
          7400,
          6600,
          6600,
          7600,
          7400,
          7900,
          8000,
          6400,
          7100,
          6400,
          7900,
          7900,
          7600,
          7600,
          6200,
          7600,
          7100,
          6100,
          7200,
          7400,
          6500,
          6300,
          7400,
          7400,
          6500,
          6100,
          7500,
          6400,
          8200,
          7200,
          7000,
          5900,
          7400,
          6700,
          7400,
          6600,
          7300,
          7300,
          7000,
          6500,
          7600,
          7200,
          6500,
          7000,
          6700,
          6600,
          7300,
          6000,
          6300,
          5800,
          3800,
          6800,
          6500,
          7100,
          7000,
          7700,
          6900,
          3600,
          6100,
          6400,
          5200,
          5700,
          2300,
          5800
         ],
         "y0": " ",
         "yaxis": "y"
        },
        {
         "alignmentgroup": "True",
         "box": {
          "visible": false
         },
         "hovertemplate": "StreamingOn=%{x}<br>IMDb=%{y}<extra></extra>",
         "legendgroup": "Hulu",
         "marker": {
          "color": "#EF553B"
         },
         "name": "Hulu",
         "offsetgroup": "Hulu",
         "orientation": "v",
         "scalegroup": "True",
         "showlegend": true,
         "type": "violin",
         "x": [
          "Hulu",
          "Hulu",
          "Hulu",
          "Hulu",
          "Hulu",
          "Hulu",
          "Hulu",
          "Hulu",
          "Hulu",
          "Hulu",
          "Hulu",
          "Hulu",
          "Hulu",
          "Hulu",
          "Hulu",
          "Hulu",
          "Hulu",
          "Hulu",
          "Hulu",
          "Hulu",
          "Hulu",
          "Hulu",
          "Hulu",
          "Hulu",
          "Hulu",
          "Hulu",
          "Hulu",
          "Hulu",
          "Hulu",
          "Hulu",
          "Hulu",
          "Hulu",
          "Hulu",
          "Hulu",
          "Hulu",
          "Hulu",
          "Hulu",
          "Hulu",
          "Hulu",
          "Hulu",
          "Hulu",
          "Hulu",
          "Hulu",
          "Hulu",
          "Hulu",
          "Hulu",
          "Hulu",
          "Hulu",
          "Hulu",
          "Hulu",
          "Hulu",
          "Hulu",
          "Hulu",
          "Hulu",
          "Hulu",
          "Hulu",
          "Hulu",
          "Hulu",
          "Hulu",
          "Hulu",
          "Hulu",
          "Hulu",
          "Hulu",
          "Hulu",
          "Hulu",
          "Hulu",
          "Hulu",
          "Hulu",
          "Hulu",
          "Hulu",
          "Hulu",
          "Hulu",
          "Hulu",
          "Hulu",
          "Hulu",
          "Hulu",
          "Hulu",
          "Hulu",
          "Hulu",
          "Hulu",
          "Hulu",
          "Hulu",
          "Hulu",
          "Hulu",
          "Hulu",
          "Hulu",
          "Hulu",
          "Hulu",
          "Hulu",
          "Hulu",
          "Hulu",
          "Hulu",
          "Hulu",
          "Hulu",
          "Hulu",
          "Hulu",
          "Hulu",
          "Hulu",
          "Hulu",
          "Hulu",
          "Hulu",
          "Hulu",
          "Hulu",
          "Hulu",
          "Hulu",
          "Hulu",
          "Hulu",
          "Hulu",
          "Hulu",
          "Hulu",
          "Hulu",
          "Hulu",
          "Hulu",
          "Hulu",
          "Hulu",
          "Hulu",
          "Hulu",
          "Hulu",
          "Hulu",
          "Hulu",
          "Hulu",
          "Hulu",
          "Hulu",
          "Hulu",
          "Hulu",
          "Hulu",
          "Hulu",
          "Hulu",
          "Hulu",
          "Hulu",
          "Hulu",
          "Hulu",
          "Hulu",
          "Hulu",
          "Hulu",
          "Hulu",
          "Hulu",
          "Hulu",
          "Hulu",
          "Hulu",
          "Hulu",
          "Hulu",
          "Hulu",
          "Hulu",
          "Hulu",
          "Hulu",
          "Hulu",
          "Hulu",
          "Hulu",
          "Hulu",
          "Hulu",
          "Hulu",
          "Hulu",
          "Hulu",
          "Hulu",
          "Hulu",
          "Hulu",
          "Hulu",
          "Hulu",
          "Hulu",
          "Hulu",
          "Hulu",
          "Hulu",
          "Hulu",
          "Hulu",
          "Hulu",
          "Hulu",
          "Hulu",
          "Hulu",
          "Hulu"
         ],
         "x0": " ",
         "xaxis": "x2",
         "y": [
          8600,
          8800,
          8200,
          7600,
          8700,
          8100,
          7400,
          8600,
          7900,
          7800,
          6600,
          6000,
          8500,
          8400,
          8700,
          8300,
          9000,
          8700,
          8300,
          8400,
          8600,
          8400,
          8600,
          8600,
          8300,
          8600,
          8700,
          8100,
          8200,
          8300,
          7900,
          8600,
          8800,
          7700,
          8000,
          8600,
          8200,
          8000,
          8000,
          8500,
          7800,
          7500,
          7800,
          7800,
          8300,
          8400,
          8100,
          8800,
          7700,
          7600,
          8100,
          7500,
          7400,
          8000,
          7800,
          7300,
          8200,
          7000,
          7700,
          8000,
          8400,
          8100,
          8100,
          7600,
          7700,
          6900,
          8000,
          8200,
          7400,
          7900,
          7400,
          8300,
          8000,
          8300,
          7300,
          7200,
          7600,
          6500,
          7100,
          6700,
          7800,
          7400,
          8300,
          8000,
          7300,
          6900,
          7100,
          7900,
          8000,
          7600,
          8200,
          7500,
          7800,
          7900,
          7700,
          6800,
          8400,
          7900,
          6700,
          7900,
          7100,
          7700,
          7500,
          7800,
          7400,
          7300,
          7500,
          7000,
          7500,
          7300,
          7300,
          7700,
          6700,
          7600,
          7000,
          8100,
          7200,
          6900,
          7300,
          7500,
          7700,
          7600,
          7000,
          7000,
          7400,
          6700,
          7400,
          7000,
          5300,
          7300,
          7100,
          7600,
          6200,
          6200,
          7500,
          7400,
          8100,
          7900,
          7700,
          6200,
          7400,
          5600,
          6700,
          6700,
          5900,
          6200,
          4900,
          6900,
          7700,
          4100,
          5900,
          7600,
          6400,
          6200,
          7200,
          7000,
          5700,
          7900,
          6600,
          7000,
          6700,
          5600,
          5700,
          7400,
          4300,
          6300,
          6600,
          6400,
          7300,
          4200
         ],
         "y0": " ",
         "yaxis": "y2"
        },
        {
         "alignmentgroup": "True",
         "box": {
          "visible": false
         },
         "hovertemplate": "StreamingOn=%{x}<br>IMDb=%{y}<extra></extra>",
         "legendgroup": "Prime Video",
         "marker": {
          "color": "#00cc96"
         },
         "name": "Prime Video",
         "offsetgroup": "Prime Video",
         "orientation": "v",
         "scalegroup": "True",
         "showlegend": true,
         "type": "violin",
         "x": [
          "Prime Video",
          "Prime Video",
          "Prime Video",
          "Prime Video",
          "Prime Video",
          "Prime Video",
          "Prime Video",
          "Prime Video",
          "Prime Video",
          "Prime Video",
          "Prime Video",
          "Prime Video",
          "Prime Video",
          "Prime Video",
          "Prime Video",
          "Prime Video",
          "Prime Video",
          "Prime Video",
          "Prime Video",
          "Prime Video",
          "Prime Video",
          "Prime Video",
          "Prime Video",
          "Prime Video",
          "Prime Video",
          "Prime Video",
          "Prime Video",
          "Prime Video",
          "Prime Video",
          "Prime Video",
          "Prime Video",
          "Prime Video",
          "Prime Video",
          "Prime Video",
          "Prime Video",
          "Prime Video",
          "Prime Video",
          "Prime Video",
          "Prime Video",
          "Prime Video",
          "Prime Video",
          "Prime Video",
          "Prime Video",
          "Prime Video",
          "Prime Video",
          "Prime Video",
          "Prime Video",
          "Prime Video",
          "Prime Video",
          "Prime Video",
          "Prime Video",
          "Prime Video",
          "Prime Video",
          "Prime Video",
          "Prime Video",
          "Prime Video",
          "Prime Video",
          "Prime Video",
          "Prime Video",
          "Prime Video",
          "Prime Video",
          "Prime Video",
          "Prime Video",
          "Prime Video",
          "Prime Video",
          "Prime Video",
          "Prime Video",
          "Prime Video",
          "Prime Video",
          "Prime Video",
          "Prime Video",
          "Prime Video",
          "Prime Video",
          "Prime Video",
          "Prime Video",
          "Prime Video",
          "Prime Video",
          "Prime Video",
          "Prime Video",
          "Prime Video",
          "Prime Video",
          "Prime Video",
          "Prime Video",
          "Prime Video",
          "Prime Video",
          "Prime Video",
          "Prime Video",
          "Prime Video",
          "Prime Video",
          "Prime Video",
          "Prime Video",
          "Prime Video",
          "Prime Video",
          "Prime Video",
          "Prime Video",
          "Prime Video",
          "Prime Video",
          "Prime Video",
          "Prime Video"
         ],
         "x0": " ",
         "xaxis": "x3",
         "y": [
          8600,
          8600,
          8300,
          7800,
          8400,
          7000,
          6400,
          8500,
          8200,
          8500,
          7500,
          8100,
          6900,
          8000,
          7600,
          8500,
          8400,
          8700,
          8300,
          8700,
          8200,
          8200,
          8300,
          8300,
          8400,
          8700,
          8100,
          7600,
          8300,
          7800,
          8100,
          8600,
          8300,
          8700,
          8200,
          7900,
          8200,
          8600,
          8300,
          7300,
          8500,
          7100,
          8200,
          8000,
          8000,
          8100,
          7500,
          8100,
          7000,
          7900,
          7400,
          7900,
          7400,
          8100,
          7700,
          8200,
          7300,
          7800,
          6600,
          7100,
          7500,
          6400,
          7300,
          7400,
          7900,
          6900,
          7500,
          7900,
          8200,
          7500,
          7400,
          6900,
          7900,
          7200,
          7300,
          7200,
          7400,
          7700,
          6900,
          6100,
          6700,
          7000,
          8500,
          6100,
          6200,
          6400,
          6600,
          6200,
          6700,
          6300,
          6600,
          6400,
          5900,
          6600,
          7500,
          7200,
          3800,
          4800,
          6100
         ],
         "y0": " ",
         "yaxis": "y3"
        },
        {
         "alignmentgroup": "True",
         "box": {
          "visible": false
         },
         "hovertemplate": "StreamingOn=%{x}<br>IMDb=%{y}<extra></extra>",
         "legendgroup": "Disney+",
         "marker": {
          "color": "#ab63fa"
         },
         "name": "Disney+",
         "offsetgroup": "Disney+",
         "orientation": "v",
         "scalegroup": "True",
         "showlegend": true,
         "type": "violin",
         "x": [
          "Disney+",
          "Disney+",
          "Disney+",
          "Disney+",
          "Disney+",
          "Disney+",
          "Disney+",
          "Disney+",
          "Disney+",
          "Disney+"
         ],
         "x0": " ",
         "xaxis": "x4",
         "y": [
          8700,
          7000,
          8700,
          8200,
          8400,
          8800,
          7300,
          8000,
          8000,
          5000
         ],
         "y0": " ",
         "yaxis": "y4"
        },
        {
         "alignmentgroup": "True",
         "box": {
          "visible": false
         },
         "hovertemplate": "StreamingOn=%{x}<br>Rotten Tomatoes=%{y}<extra></extra>",
         "legendgroup": "Netflix",
         "marker": {
          "color": "#636efa"
         },
         "name": "Netflix",
         "offsetgroup": "Netflix",
         "orientation": "v",
         "scalegroup": "True",
         "showlegend": true,
         "type": "violin",
         "x": [
          "Netflix",
          "Netflix",
          "Netflix",
          "Netflix",
          "Netflix",
          "Netflix",
          "Netflix",
          "Netflix",
          "Netflix",
          "Netflix",
          "Netflix",
          "Netflix",
          "Netflix",
          "Netflix",
          "Netflix",
          "Netflix",
          "Netflix",
          "Netflix",
          "Netflix",
          "Netflix",
          "Netflix",
          "Netflix",
          "Netflix",
          "Netflix",
          "Netflix",
          "Netflix",
          "Netflix",
          "Netflix",
          "Netflix",
          "Netflix",
          "Netflix",
          "Netflix",
          "Netflix",
          "Netflix",
          "Netflix",
          "Netflix",
          "Netflix",
          "Netflix",
          "Netflix",
          "Netflix",
          "Netflix",
          "Netflix",
          "Netflix",
          "Netflix",
          "Netflix",
          "Netflix",
          "Netflix",
          "Netflix",
          "Netflix",
          "Netflix",
          "Netflix",
          "Netflix",
          "Netflix",
          "Netflix",
          "Netflix",
          "Netflix",
          "Netflix",
          "Netflix",
          "Netflix",
          "Netflix",
          "Netflix",
          "Netflix",
          "Netflix",
          "Netflix",
          "Netflix",
          "Netflix",
          "Netflix",
          "Netflix",
          "Netflix",
          "Netflix",
          "Netflix",
          "Netflix",
          "Netflix",
          "Netflix",
          "Netflix",
          "Netflix",
          "Netflix",
          "Netflix",
          "Netflix",
          "Netflix",
          "Netflix",
          "Netflix",
          "Netflix",
          "Netflix",
          "Netflix",
          "Netflix",
          "Netflix",
          "Netflix",
          "Netflix",
          "Netflix",
          "Netflix",
          "Netflix",
          "Netflix",
          "Netflix",
          "Netflix",
          "Netflix",
          "Netflix",
          "Netflix",
          "Netflix",
          "Netflix",
          "Netflix",
          "Netflix",
          "Netflix",
          "Netflix",
          "Netflix",
          "Netflix",
          "Netflix",
          "Netflix",
          "Netflix",
          "Netflix",
          "Netflix",
          "Netflix",
          "Netflix",
          "Netflix",
          "Netflix",
          "Netflix",
          "Netflix",
          "Netflix",
          "Netflix",
          "Netflix",
          "Netflix",
          "Netflix",
          "Netflix",
          "Netflix",
          "Netflix",
          "Netflix",
          "Netflix",
          "Netflix",
          "Netflix",
          "Netflix",
          "Netflix",
          "Netflix",
          "Netflix",
          "Netflix",
          "Netflix",
          "Netflix",
          "Netflix",
          "Netflix",
          "Netflix",
          "Netflix",
          "Netflix",
          "Netflix",
          "Netflix",
          "Netflix",
          "Netflix",
          "Netflix",
          "Netflix",
          "Netflix",
          "Netflix",
          "Netflix",
          "Netflix",
          "Netflix",
          "Netflix",
          "Netflix",
          "Netflix",
          "Netflix",
          "Netflix",
          "Netflix",
          "Netflix",
          "Netflix",
          "Netflix",
          "Netflix",
          "Netflix",
          "Netflix",
          "Netflix",
          "Netflix",
          "Netflix",
          "Netflix",
          "Netflix",
          "Netflix",
          "Netflix",
          "Netflix",
          "Netflix",
          "Netflix",
          "Netflix",
          "Netflix",
          "Netflix",
          "Netflix",
          "Netflix",
          "Netflix",
          "Netflix",
          "Netflix",
          "Netflix",
          "Netflix",
          "Netflix",
          "Netflix",
          "Netflix",
          "Netflix",
          "Netflix",
          "Netflix",
          "Netflix",
          "Netflix",
          "Netflix",
          "Netflix",
          "Netflix"
         ],
         "x0": " ",
         "xaxis": "x5",
         "y": [
          93,
          91,
          97,
          81,
          83,
          93,
          81,
          81,
          89,
          93,
          67,
          89,
          91,
          85,
          97,
          93,
          91,
          89,
          91,
          87,
          83,
          93,
          75,
          85,
          89,
          97,
          93,
          97,
          91,
          91,
          93,
          71,
          81,
          97,
          85,
          87,
          91,
          89,
          95,
          83,
          77,
          63,
          99,
          93,
          75,
          93,
          87,
          93,
          93,
          77,
          85,
          87,
          85,
          85,
          91,
          83,
          89,
          93,
          39,
          85,
          75,
          93,
          99,
          87,
          93,
          75,
          67,
          99,
          97,
          89,
          85,
          87,
          95,
          87,
          57,
          97,
          89,
          97,
          69,
          89,
          89,
          83,
          89,
          95,
          85,
          67,
          91,
          71,
          97,
          77,
          57,
          77,
          95,
          91,
          63,
          91,
          81,
          67,
          81,
          65,
          93,
          89,
          27,
          81,
          45,
          93,
          71,
          81,
          77,
          37,
          65,
          93,
          97,
          97,
          83,
          85,
          97,
          57,
          57,
          65,
          91,
          75,
          77,
          51,
          77,
          63,
          75,
          95,
          93,
          61,
          73,
          33,
          51,
          11,
          95,
          77,
          93,
          95,
          83,
          77,
          75,
          75,
          83,
          39,
          95,
          95,
          67,
          71,
          55,
          77,
          73,
          47,
          81,
          97,
          89,
          75,
          33,
          91,
          73,
          95,
          35,
          75,
          35,
          93,
          77,
          79,
          79,
          83,
          33,
          73,
          41,
          63,
          79,
          37,
          75,
          19,
          67,
          67,
          63,
          67,
          77,
          71,
          33,
          57,
          83,
          71,
          43,
          67,
          75,
          41,
          37,
          81,
          17,
          31,
          41
         ],
         "y0": " ",
         "yaxis": "y5"
        },
        {
         "alignmentgroup": "True",
         "box": {
          "visible": false
         },
         "hovertemplate": "StreamingOn=%{x}<br>Rotten Tomatoes=%{y}<extra></extra>",
         "legendgroup": "Hulu",
         "marker": {
          "color": "#EF553B"
         },
         "name": "Hulu",
         "offsetgroup": "Hulu",
         "orientation": "v",
         "scalegroup": "True",
         "showlegend": true,
         "type": "violin",
         "x": [
          "Hulu",
          "Hulu",
          "Hulu",
          "Hulu",
          "Hulu",
          "Hulu",
          "Hulu",
          "Hulu",
          "Hulu",
          "Hulu",
          "Hulu",
          "Hulu",
          "Hulu",
          "Hulu",
          "Hulu",
          "Hulu",
          "Hulu",
          "Hulu",
          "Hulu",
          "Hulu",
          "Hulu",
          "Hulu",
          "Hulu",
          "Hulu",
          "Hulu",
          "Hulu",
          "Hulu",
          "Hulu",
          "Hulu",
          "Hulu",
          "Hulu",
          "Hulu",
          "Hulu",
          "Hulu",
          "Hulu",
          "Hulu",
          "Hulu",
          "Hulu",
          "Hulu",
          "Hulu",
          "Hulu",
          "Hulu",
          "Hulu",
          "Hulu",
          "Hulu",
          "Hulu",
          "Hulu",
          "Hulu",
          "Hulu",
          "Hulu",
          "Hulu",
          "Hulu",
          "Hulu",
          "Hulu",
          "Hulu",
          "Hulu",
          "Hulu",
          "Hulu",
          "Hulu",
          "Hulu",
          "Hulu",
          "Hulu",
          "Hulu",
          "Hulu",
          "Hulu",
          "Hulu",
          "Hulu",
          "Hulu",
          "Hulu",
          "Hulu",
          "Hulu",
          "Hulu",
          "Hulu",
          "Hulu",
          "Hulu",
          "Hulu",
          "Hulu",
          "Hulu",
          "Hulu",
          "Hulu",
          "Hulu",
          "Hulu",
          "Hulu",
          "Hulu",
          "Hulu",
          "Hulu",
          "Hulu",
          "Hulu",
          "Hulu",
          "Hulu",
          "Hulu",
          "Hulu",
          "Hulu",
          "Hulu",
          "Hulu",
          "Hulu",
          "Hulu",
          "Hulu",
          "Hulu",
          "Hulu",
          "Hulu",
          "Hulu",
          "Hulu",
          "Hulu",
          "Hulu",
          "Hulu",
          "Hulu",
          "Hulu",
          "Hulu",
          "Hulu",
          "Hulu",
          "Hulu",
          "Hulu",
          "Hulu",
          "Hulu",
          "Hulu",
          "Hulu",
          "Hulu",
          "Hulu",
          "Hulu",
          "Hulu",
          "Hulu",
          "Hulu",
          "Hulu",
          "Hulu",
          "Hulu",
          "Hulu",
          "Hulu",
          "Hulu",
          "Hulu",
          "Hulu",
          "Hulu",
          "Hulu",
          "Hulu",
          "Hulu",
          "Hulu",
          "Hulu",
          "Hulu",
          "Hulu",
          "Hulu",
          "Hulu",
          "Hulu",
          "Hulu",
          "Hulu",
          "Hulu",
          "Hulu",
          "Hulu",
          "Hulu",
          "Hulu",
          "Hulu",
          "Hulu",
          "Hulu",
          "Hulu",
          "Hulu",
          "Hulu",
          "Hulu",
          "Hulu",
          "Hulu",
          "Hulu",
          "Hulu",
          "Hulu",
          "Hulu",
          "Hulu",
          "Hulu",
          "Hulu",
          "Hulu",
          "Hulu",
          "Hulu",
          "Hulu",
          "Hulu"
         ],
         "x0": " ",
         "xaxis": "x6",
         "y": [
          93,
          89,
          97,
          83,
          75,
          71,
          81,
          89,
          87,
          77,
          51,
          63,
          93,
          97,
          85,
          85,
          85,
          81,
          83,
          95,
          87,
          97,
          91,
          97,
          83,
          75,
          97,
          91,
          85,
          91,
          95,
          97,
          83,
          81,
          93,
          97,
          69,
          87,
          65,
          83,
          69,
          91,
          81,
          99,
          85,
          99,
          87,
          97,
          91,
          87,
          95,
          83,
          95,
          87,
          91,
          79,
          81,
          87,
          77,
          89,
          87,
          91,
          89,
          85,
          97,
          73,
          97,
          89,
          79,
          89,
          77,
          89,
          81,
          97,
          89,
          57,
          75,
          97,
          91,
          87,
          83,
          61,
          95,
          97,
          85,
          89,
          75,
          75,
          67,
          65,
          91,
          79,
          81,
          53,
          93,
          61,
          95,
          93,
          77,
          75,
          83,
          75,
          75,
          95,
          87,
          77,
          93,
          75,
          59,
          85,
          73,
          97,
          91,
          73,
          67,
          67,
          67,
          73,
          41,
          77,
          67,
          73,
          95,
          39,
          91,
          67,
          51,
          65,
          89,
          77,
          43,
          83,
          59,
          59,
          81,
          43,
          83,
          81,
          83,
          73,
          33,
          89,
          9,
          39,
          77,
          47,
          43,
          11,
          93,
          17,
          33,
          67,
          81,
          93,
          83,
          79,
          93,
          73,
          89,
          67,
          23,
          67,
          67,
          85,
          25,
          9,
          21,
          25,
          83,
          67
         ],
         "y0": " ",
         "yaxis": "y6"
        },
        {
         "alignmentgroup": "True",
         "box": {
          "visible": false
         },
         "hovertemplate": "StreamingOn=%{x}<br>Rotten Tomatoes=%{y}<extra></extra>",
         "legendgroup": "Prime Video",
         "marker": {
          "color": "#00cc96"
         },
         "name": "Prime Video",
         "offsetgroup": "Prime Video",
         "orientation": "v",
         "scalegroup": "True",
         "showlegend": true,
         "type": "violin",
         "x": [
          "Prime Video",
          "Prime Video",
          "Prime Video",
          "Prime Video",
          "Prime Video",
          "Prime Video",
          "Prime Video",
          "Prime Video",
          "Prime Video",
          "Prime Video",
          "Prime Video",
          "Prime Video",
          "Prime Video",
          "Prime Video",
          "Prime Video",
          "Prime Video",
          "Prime Video",
          "Prime Video",
          "Prime Video",
          "Prime Video",
          "Prime Video",
          "Prime Video",
          "Prime Video",
          "Prime Video",
          "Prime Video",
          "Prime Video",
          "Prime Video",
          "Prime Video",
          "Prime Video",
          "Prime Video",
          "Prime Video",
          "Prime Video",
          "Prime Video",
          "Prime Video",
          "Prime Video",
          "Prime Video",
          "Prime Video",
          "Prime Video",
          "Prime Video",
          "Prime Video",
          "Prime Video",
          "Prime Video",
          "Prime Video",
          "Prime Video",
          "Prime Video",
          "Prime Video",
          "Prime Video",
          "Prime Video",
          "Prime Video",
          "Prime Video",
          "Prime Video",
          "Prime Video",
          "Prime Video",
          "Prime Video",
          "Prime Video",
          "Prime Video",
          "Prime Video",
          "Prime Video",
          "Prime Video",
          "Prime Video",
          "Prime Video",
          "Prime Video",
          "Prime Video",
          "Prime Video",
          "Prime Video",
          "Prime Video",
          "Prime Video",
          "Prime Video",
          "Prime Video",
          "Prime Video",
          "Prime Video",
          "Prime Video",
          "Prime Video",
          "Prime Video",
          "Prime Video",
          "Prime Video",
          "Prime Video",
          "Prime Video",
          "Prime Video",
          "Prime Video",
          "Prime Video",
          "Prime Video",
          "Prime Video",
          "Prime Video",
          "Prime Video",
          "Prime Video",
          "Prime Video",
          "Prime Video",
          "Prime Video",
          "Prime Video",
          "Prime Video",
          "Prime Video",
          "Prime Video",
          "Prime Video",
          "Prime Video",
          "Prime Video",
          "Prime Video",
          "Prime Video",
          "Prime Video"
         ],
         "x0": " ",
         "xaxis": "x7",
         "y": [
          93,
          89,
          89,
          77,
          45,
          51,
          73,
          93,
          85,
          83,
          91,
          87,
          89,
          67,
          67,
          93,
          97,
          89,
          93,
          81,
          81,
          89,
          89,
          93,
          89,
          89,
          71,
          81,
          91,
          89,
          91,
          59,
          57,
          85,
          93,
          57,
          91,
          93,
          87,
          89,
          81,
          71,
          77,
          89,
          75,
          81,
          67,
          97,
          77,
          93,
          95,
          79,
          77,
          65,
          95,
          87,
          91,
          91,
          77,
          71,
          87,
          77,
          57,
          69,
          95,
          95,
          53,
          79,
          73,
          79,
          81,
          67,
          45,
          83,
          83,
          87,
          73,
          83,
          59,
          79,
          65,
          85,
          97,
          79,
          87,
          57,
          63,
          57,
          19,
          33,
          17,
          75,
          71,
          63,
          47,
          37,
          35,
          15,
          63
         ],
         "y0": " ",
         "yaxis": "y7"
        },
        {
         "alignmentgroup": "True",
         "box": {
          "visible": false
         },
         "hovertemplate": "StreamingOn=%{x}<br>Rotten Tomatoes=%{y}<extra></extra>",
         "legendgroup": "Disney+",
         "marker": {
          "color": "#ab63fa"
         },
         "name": "Disney+",
         "offsetgroup": "Disney+",
         "orientation": "v",
         "scalegroup": "True",
         "showlegend": true,
         "type": "violin",
         "x": [
          "Disney+",
          "Disney+",
          "Disney+",
          "Disney+",
          "Disney+",
          "Disney+",
          "Disney+",
          "Disney+",
          "Disney+",
          "Disney+"
         ],
         "x0": " ",
         "xaxis": "x8",
         "y": [
          85,
          87,
          93,
          93,
          85,
          83,
          79,
          67,
          83,
          11
         ],
         "y0": " ",
         "yaxis": "y8"
        }
       ],
       "layout": {
        "autosize": false,
        "height": 800,
        "template": {
         "data": {
          "bar": [
           {
            "error_x": {
             "color": "#2a3f5f"
            },
            "error_y": {
             "color": "#2a3f5f"
            },
            "marker": {
             "line": {
              "color": "#E5ECF6",
              "width": 0.5
             }
            },
            "type": "bar"
           }
          ],
          "barpolar": [
           {
            "marker": {
             "line": {
              "color": "#E5ECF6",
              "width": 0.5
             }
            },
            "type": "barpolar"
           }
          ],
          "carpet": [
           {
            "aaxis": {
             "endlinecolor": "#2a3f5f",
             "gridcolor": "white",
             "linecolor": "white",
             "minorgridcolor": "white",
             "startlinecolor": "#2a3f5f"
            },
            "baxis": {
             "endlinecolor": "#2a3f5f",
             "gridcolor": "white",
             "linecolor": "white",
             "minorgridcolor": "white",
             "startlinecolor": "#2a3f5f"
            },
            "type": "carpet"
           }
          ],
          "choropleth": [
           {
            "colorbar": {
             "outlinewidth": 0,
             "ticks": ""
            },
            "type": "choropleth"
           }
          ],
          "contour": [
           {
            "colorbar": {
             "outlinewidth": 0,
             "ticks": ""
            },
            "colorscale": [
             [
              0,
              "#0d0887"
             ],
             [
              0.1111111111111111,
              "#46039f"
             ],
             [
              0.2222222222222222,
              "#7201a8"
             ],
             [
              0.3333333333333333,
              "#9c179e"
             ],
             [
              0.4444444444444444,
              "#bd3786"
             ],
             [
              0.5555555555555556,
              "#d8576b"
             ],
             [
              0.6666666666666666,
              "#ed7953"
             ],
             [
              0.7777777777777778,
              "#fb9f3a"
             ],
             [
              0.8888888888888888,
              "#fdca26"
             ],
             [
              1,
              "#f0f921"
             ]
            ],
            "type": "contour"
           }
          ],
          "contourcarpet": [
           {
            "colorbar": {
             "outlinewidth": 0,
             "ticks": ""
            },
            "type": "contourcarpet"
           }
          ],
          "heatmap": [
           {
            "colorbar": {
             "outlinewidth": 0,
             "ticks": ""
            },
            "colorscale": [
             [
              0,
              "#0d0887"
             ],
             [
              0.1111111111111111,
              "#46039f"
             ],
             [
              0.2222222222222222,
              "#7201a8"
             ],
             [
              0.3333333333333333,
              "#9c179e"
             ],
             [
              0.4444444444444444,
              "#bd3786"
             ],
             [
              0.5555555555555556,
              "#d8576b"
             ],
             [
              0.6666666666666666,
              "#ed7953"
             ],
             [
              0.7777777777777778,
              "#fb9f3a"
             ],
             [
              0.8888888888888888,
              "#fdca26"
             ],
             [
              1,
              "#f0f921"
             ]
            ],
            "type": "heatmap"
           }
          ],
          "heatmapgl": [
           {
            "colorbar": {
             "outlinewidth": 0,
             "ticks": ""
            },
            "colorscale": [
             [
              0,
              "#0d0887"
             ],
             [
              0.1111111111111111,
              "#46039f"
             ],
             [
              0.2222222222222222,
              "#7201a8"
             ],
             [
              0.3333333333333333,
              "#9c179e"
             ],
             [
              0.4444444444444444,
              "#bd3786"
             ],
             [
              0.5555555555555556,
              "#d8576b"
             ],
             [
              0.6666666666666666,
              "#ed7953"
             ],
             [
              0.7777777777777778,
              "#fb9f3a"
             ],
             [
              0.8888888888888888,
              "#fdca26"
             ],
             [
              1,
              "#f0f921"
             ]
            ],
            "type": "heatmapgl"
           }
          ],
          "histogram": [
           {
            "marker": {
             "colorbar": {
              "outlinewidth": 0,
              "ticks": ""
             }
            },
            "type": "histogram"
           }
          ],
          "histogram2d": [
           {
            "colorbar": {
             "outlinewidth": 0,
             "ticks": ""
            },
            "colorscale": [
             [
              0,
              "#0d0887"
             ],
             [
              0.1111111111111111,
              "#46039f"
             ],
             [
              0.2222222222222222,
              "#7201a8"
             ],
             [
              0.3333333333333333,
              "#9c179e"
             ],
             [
              0.4444444444444444,
              "#bd3786"
             ],
             [
              0.5555555555555556,
              "#d8576b"
             ],
             [
              0.6666666666666666,
              "#ed7953"
             ],
             [
              0.7777777777777778,
              "#fb9f3a"
             ],
             [
              0.8888888888888888,
              "#fdca26"
             ],
             [
              1,
              "#f0f921"
             ]
            ],
            "type": "histogram2d"
           }
          ],
          "histogram2dcontour": [
           {
            "colorbar": {
             "outlinewidth": 0,
             "ticks": ""
            },
            "colorscale": [
             [
              0,
              "#0d0887"
             ],
             [
              0.1111111111111111,
              "#46039f"
             ],
             [
              0.2222222222222222,
              "#7201a8"
             ],
             [
              0.3333333333333333,
              "#9c179e"
             ],
             [
              0.4444444444444444,
              "#bd3786"
             ],
             [
              0.5555555555555556,
              "#d8576b"
             ],
             [
              0.6666666666666666,
              "#ed7953"
             ],
             [
              0.7777777777777778,
              "#fb9f3a"
             ],
             [
              0.8888888888888888,
              "#fdca26"
             ],
             [
              1,
              "#f0f921"
             ]
            ],
            "type": "histogram2dcontour"
           }
          ],
          "mesh3d": [
           {
            "colorbar": {
             "outlinewidth": 0,
             "ticks": ""
            },
            "type": "mesh3d"
           }
          ],
          "parcoords": [
           {
            "line": {
             "colorbar": {
              "outlinewidth": 0,
              "ticks": ""
             }
            },
            "type": "parcoords"
           }
          ],
          "pie": [
           {
            "automargin": true,
            "type": "pie"
           }
          ],
          "scatter": [
           {
            "marker": {
             "colorbar": {
              "outlinewidth": 0,
              "ticks": ""
             }
            },
            "type": "scatter"
           }
          ],
          "scatter3d": [
           {
            "line": {
             "colorbar": {
              "outlinewidth": 0,
              "ticks": ""
             }
            },
            "marker": {
             "colorbar": {
              "outlinewidth": 0,
              "ticks": ""
             }
            },
            "type": "scatter3d"
           }
          ],
          "scattercarpet": [
           {
            "marker": {
             "colorbar": {
              "outlinewidth": 0,
              "ticks": ""
             }
            },
            "type": "scattercarpet"
           }
          ],
          "scattergeo": [
           {
            "marker": {
             "colorbar": {
              "outlinewidth": 0,
              "ticks": ""
             }
            },
            "type": "scattergeo"
           }
          ],
          "scattergl": [
           {
            "marker": {
             "colorbar": {
              "outlinewidth": 0,
              "ticks": ""
             }
            },
            "type": "scattergl"
           }
          ],
          "scattermapbox": [
           {
            "marker": {
             "colorbar": {
              "outlinewidth": 0,
              "ticks": ""
             }
            },
            "type": "scattermapbox"
           }
          ],
          "scatterpolar": [
           {
            "marker": {
             "colorbar": {
              "outlinewidth": 0,
              "ticks": ""
             }
            },
            "type": "scatterpolar"
           }
          ],
          "scatterpolargl": [
           {
            "marker": {
             "colorbar": {
              "outlinewidth": 0,
              "ticks": ""
             }
            },
            "type": "scatterpolargl"
           }
          ],
          "scatterternary": [
           {
            "marker": {
             "colorbar": {
              "outlinewidth": 0,
              "ticks": ""
             }
            },
            "type": "scatterternary"
           }
          ],
          "surface": [
           {
            "colorbar": {
             "outlinewidth": 0,
             "ticks": ""
            },
            "colorscale": [
             [
              0,
              "#0d0887"
             ],
             [
              0.1111111111111111,
              "#46039f"
             ],
             [
              0.2222222222222222,
              "#7201a8"
             ],
             [
              0.3333333333333333,
              "#9c179e"
             ],
             [
              0.4444444444444444,
              "#bd3786"
             ],
             [
              0.5555555555555556,
              "#d8576b"
             ],
             [
              0.6666666666666666,
              "#ed7953"
             ],
             [
              0.7777777777777778,
              "#fb9f3a"
             ],
             [
              0.8888888888888888,
              "#fdca26"
             ],
             [
              1,
              "#f0f921"
             ]
            ],
            "type": "surface"
           }
          ],
          "table": [
           {
            "cells": {
             "fill": {
              "color": "#EBF0F8"
             },
             "line": {
              "color": "white"
             }
            },
            "header": {
             "fill": {
              "color": "#C8D4E3"
             },
             "line": {
              "color": "white"
             }
            },
            "type": "table"
           }
          ]
         },
         "layout": {
          "annotationdefaults": {
           "arrowcolor": "#2a3f5f",
           "arrowhead": 0,
           "arrowwidth": 1
          },
          "autotypenumbers": "strict",
          "coloraxis": {
           "colorbar": {
            "outlinewidth": 0,
            "ticks": ""
           }
          },
          "colorscale": {
           "diverging": [
            [
             0,
             "#8e0152"
            ],
            [
             0.1,
             "#c51b7d"
            ],
            [
             0.2,
             "#de77ae"
            ],
            [
             0.3,
             "#f1b6da"
            ],
            [
             0.4,
             "#fde0ef"
            ],
            [
             0.5,
             "#f7f7f7"
            ],
            [
             0.6,
             "#e6f5d0"
            ],
            [
             0.7,
             "#b8e186"
            ],
            [
             0.8,
             "#7fbc41"
            ],
            [
             0.9,
             "#4d9221"
            ],
            [
             1,
             "#276419"
            ]
           ],
           "sequential": [
            [
             0,
             "#0d0887"
            ],
            [
             0.1111111111111111,
             "#46039f"
            ],
            [
             0.2222222222222222,
             "#7201a8"
            ],
            [
             0.3333333333333333,
             "#9c179e"
            ],
            [
             0.4444444444444444,
             "#bd3786"
            ],
            [
             0.5555555555555556,
             "#d8576b"
            ],
            [
             0.6666666666666666,
             "#ed7953"
            ],
            [
             0.7777777777777778,
             "#fb9f3a"
            ],
            [
             0.8888888888888888,
             "#fdca26"
            ],
            [
             1,
             "#f0f921"
            ]
           ],
           "sequentialminus": [
            [
             0,
             "#0d0887"
            ],
            [
             0.1111111111111111,
             "#46039f"
            ],
            [
             0.2222222222222222,
             "#7201a8"
            ],
            [
             0.3333333333333333,
             "#9c179e"
            ],
            [
             0.4444444444444444,
             "#bd3786"
            ],
            [
             0.5555555555555556,
             "#d8576b"
            ],
            [
             0.6666666666666666,
             "#ed7953"
            ],
            [
             0.7777777777777778,
             "#fb9f3a"
            ],
            [
             0.8888888888888888,
             "#fdca26"
            ],
            [
             1,
             "#f0f921"
            ]
           ]
          },
          "colorway": [
           "#636efa",
           "#EF553B",
           "#00cc96",
           "#ab63fa",
           "#FFA15A",
           "#19d3f3",
           "#FF6692",
           "#B6E880",
           "#FF97FF",
           "#FECB52"
          ],
          "font": {
           "color": "#2a3f5f"
          },
          "geo": {
           "bgcolor": "white",
           "lakecolor": "white",
           "landcolor": "#E5ECF6",
           "showlakes": true,
           "showland": true,
           "subunitcolor": "white"
          },
          "hoverlabel": {
           "align": "left"
          },
          "hovermode": "closest",
          "mapbox": {
           "style": "light"
          },
          "paper_bgcolor": "white",
          "plot_bgcolor": "#E5ECF6",
          "polar": {
           "angularaxis": {
            "gridcolor": "white",
            "linecolor": "white",
            "ticks": ""
           },
           "bgcolor": "#E5ECF6",
           "radialaxis": {
            "gridcolor": "white",
            "linecolor": "white",
            "ticks": ""
           }
          },
          "scene": {
           "xaxis": {
            "backgroundcolor": "#E5ECF6",
            "gridcolor": "white",
            "gridwidth": 2,
            "linecolor": "white",
            "showbackground": true,
            "ticks": "",
            "zerolinecolor": "white"
           },
           "yaxis": {
            "backgroundcolor": "#E5ECF6",
            "gridcolor": "white",
            "gridwidth": 2,
            "linecolor": "white",
            "showbackground": true,
            "ticks": "",
            "zerolinecolor": "white"
           },
           "zaxis": {
            "backgroundcolor": "#E5ECF6",
            "gridcolor": "white",
            "gridwidth": 2,
            "linecolor": "white",
            "showbackground": true,
            "ticks": "",
            "zerolinecolor": "white"
           }
          },
          "shapedefaults": {
           "line": {
            "color": "#2a3f5f"
           }
          },
          "ternary": {
           "aaxis": {
            "gridcolor": "white",
            "linecolor": "white",
            "ticks": ""
           },
           "baxis": {
            "gridcolor": "white",
            "linecolor": "white",
            "ticks": ""
           },
           "bgcolor": "#E5ECF6",
           "caxis": {
            "gridcolor": "white",
            "linecolor": "white",
            "ticks": ""
           }
          },
          "title": {
           "x": 0.05
          },
          "xaxis": {
           "automargin": true,
           "gridcolor": "white",
           "linecolor": "white",
           "ticks": "",
           "title": {
            "standoff": 15
           },
           "zerolinecolor": "white",
           "zerolinewidth": 2
          },
          "yaxis": {
           "automargin": true,
           "gridcolor": "white",
           "linecolor": "white",
           "ticks": "",
           "title": {
            "standoff": 15
           },
           "zerolinecolor": "white",
           "zerolinewidth": 2
          }
         }
        },
        "width": 800,
        "xaxis": {
         "anchor": "y",
         "domain": [
          0,
          0.2125
         ]
        },
        "xaxis2": {
         "anchor": "y2",
         "domain": [
          0.2625,
          0.475
         ]
        },
        "xaxis3": {
         "anchor": "y3",
         "domain": [
          0.525,
          0.7375
         ]
        },
        "xaxis4": {
         "anchor": "y4",
         "domain": [
          0.7875,
          1
         ]
        },
        "xaxis5": {
         "anchor": "y5",
         "domain": [
          0,
          0.2125
         ]
        },
        "xaxis6": {
         "anchor": "y6",
         "domain": [
          0.2625,
          0.475
         ]
        },
        "xaxis7": {
         "anchor": "y7",
         "domain": [
          0.525,
          0.7375
         ]
        },
        "xaxis8": {
         "anchor": "y8",
         "domain": [
          0.7875,
          1
         ]
        },
        "yaxis": {
         "anchor": "x",
         "domain": [
          0.575,
          1
         ]
        },
        "yaxis2": {
         "anchor": "x2",
         "domain": [
          0.575,
          1
         ],
         "matches": "y",
         "showticklabels": false
        },
        "yaxis3": {
         "anchor": "x3",
         "domain": [
          0.575,
          1
         ],
         "matches": "y",
         "showticklabels": false
        },
        "yaxis4": {
         "anchor": "x4",
         "domain": [
          0.575,
          1
         ],
         "matches": "y",
         "showticklabels": false
        },
        "yaxis5": {
         "anchor": "x5",
         "domain": [
          0,
          0.425
         ]
        },
        "yaxis6": {
         "anchor": "x6",
         "domain": [
          0,
          0.425
         ],
         "matches": "y5",
         "showticklabels": false
        },
        "yaxis7": {
         "anchor": "x7",
         "domain": [
          0,
          0.425
         ],
         "matches": "y5",
         "showticklabels": false
        },
        "yaxis8": {
         "anchor": "x8",
         "domain": [
          0,
          0.425
         ],
         "matches": "y5",
         "showticklabels": false
        }
       }
      },
      "text/html": [
       "<div>                            <div id=\"950e1f57-1b0d-41ed-be0f-264ebd343dd4\" class=\"plotly-graph-div\" style=\"height:800px; width:800px;\"></div>            <script type=\"text/javascript\">                require([\"plotly\"], function(Plotly) {                    window.PLOTLYENV=window.PLOTLYENV || {};                                    if (document.getElementById(\"950e1f57-1b0d-41ed-be0f-264ebd343dd4\")) {                    Plotly.newPlot(                        \"950e1f57-1b0d-41ed-be0f-264ebd343dd4\",                        [{\"alignmentgroup\": \"True\", \"box\": {\"visible\": false}, \"hovertemplate\": \"StreamingOn=%{x}<br>IMDb=%{y}<extra></extra>\", \"legendgroup\": \"Netflix\", \"marker\": {\"color\": \"#636efa\"}, \"name\": \"Netflix\", \"offsetgroup\": \"Netflix\", \"orientation\": \"v\", \"scalegroup\": \"True\", \"showlegend\": true, \"type\": \"violin\", \"x\": [\"Netflix\", \"Netflix\", \"Netflix\", \"Netflix\", \"Netflix\", \"Netflix\", \"Netflix\", \"Netflix\", \"Netflix\", \"Netflix\", \"Netflix\", \"Netflix\", \"Netflix\", \"Netflix\", \"Netflix\", \"Netflix\", \"Netflix\", \"Netflix\", \"Netflix\", \"Netflix\", \"Netflix\", \"Netflix\", \"Netflix\", \"Netflix\", \"Netflix\", \"Netflix\", \"Netflix\", \"Netflix\", \"Netflix\", \"Netflix\", \"Netflix\", \"Netflix\", \"Netflix\", \"Netflix\", \"Netflix\", \"Netflix\", \"Netflix\", \"Netflix\", \"Netflix\", \"Netflix\", \"Netflix\", \"Netflix\", \"Netflix\", \"Netflix\", \"Netflix\", \"Netflix\", \"Netflix\", \"Netflix\", \"Netflix\", \"Netflix\", \"Netflix\", \"Netflix\", \"Netflix\", \"Netflix\", \"Netflix\", \"Netflix\", \"Netflix\", \"Netflix\", \"Netflix\", \"Netflix\", \"Netflix\", \"Netflix\", \"Netflix\", \"Netflix\", \"Netflix\", \"Netflix\", \"Netflix\", \"Netflix\", \"Netflix\", \"Netflix\", \"Netflix\", \"Netflix\", \"Netflix\", \"Netflix\", \"Netflix\", \"Netflix\", \"Netflix\", \"Netflix\", \"Netflix\", \"Netflix\", \"Netflix\", \"Netflix\", \"Netflix\", \"Netflix\", \"Netflix\", \"Netflix\", \"Netflix\", \"Netflix\", \"Netflix\", \"Netflix\", \"Netflix\", \"Netflix\", \"Netflix\", \"Netflix\", \"Netflix\", \"Netflix\", \"Netflix\", \"Netflix\", \"Netflix\", \"Netflix\", \"Netflix\", \"Netflix\", \"Netflix\", \"Netflix\", \"Netflix\", \"Netflix\", \"Netflix\", \"Netflix\", \"Netflix\", \"Netflix\", \"Netflix\", \"Netflix\", \"Netflix\", \"Netflix\", \"Netflix\", \"Netflix\", \"Netflix\", \"Netflix\", \"Netflix\", \"Netflix\", \"Netflix\", \"Netflix\", \"Netflix\", \"Netflix\", \"Netflix\", \"Netflix\", \"Netflix\", \"Netflix\", \"Netflix\", \"Netflix\", \"Netflix\", \"Netflix\", \"Netflix\", \"Netflix\", \"Netflix\", \"Netflix\", \"Netflix\", \"Netflix\", \"Netflix\", \"Netflix\", \"Netflix\", \"Netflix\", \"Netflix\", \"Netflix\", \"Netflix\", \"Netflix\", \"Netflix\", \"Netflix\", \"Netflix\", \"Netflix\", \"Netflix\", \"Netflix\", \"Netflix\", \"Netflix\", \"Netflix\", \"Netflix\", \"Netflix\", \"Netflix\", \"Netflix\", \"Netflix\", \"Netflix\", \"Netflix\", \"Netflix\", \"Netflix\", \"Netflix\", \"Netflix\", \"Netflix\", \"Netflix\", \"Netflix\", \"Netflix\", \"Netflix\", \"Netflix\", \"Netflix\", \"Netflix\", \"Netflix\", \"Netflix\", \"Netflix\", \"Netflix\", \"Netflix\", \"Netflix\", \"Netflix\", \"Netflix\", \"Netflix\", \"Netflix\", \"Netflix\", \"Netflix\", \"Netflix\", \"Netflix\", \"Netflix\", \"Netflix\", \"Netflix\", \"Netflix\", \"Netflix\", \"Netflix\", \"Netflix\"], \"x0\": \" \", \"xaxis\": \"x\", \"y\": [8800, 8400, 8700, 8900, 8800, 8400, 8200, 8400, 8800, 8600, 8300, 8800, 8400, 8600, 8200, 8700, 8000, 7700, 8400, 8200, 7600, 8100, 8700, 7700, 8700, 7600, 8700, 8000, 8200, 8100, 8400, 8100, 7400, 8400, 7600, 8500, 7800, 8600, 8000, 8000, 7900, 8500, 8400, 8100, 8800, 8200, 8300, 8200, 9300, 7800, 7600, 7900, 7700, 8100, 7900, 8000, 8300, 8000, 7800, 8300, 7300, 7700, 8200, 6800, 8100, 7100, 7400, 7800, 8200, 7800, 7800, 8500, 8300, 7300, 7700, 8400, 7500, 8100, 8100, 7300, 8400, 7200, 8300, 7300, 7900, 8000, 8500, 7500, 7900, 7800, 7700, 7200, 8400, 8200, 7500, 8500, 7700, 8100, 8100, 7700, 7400, 8100, 8200, 7700, 8400, 7900, 6700, 6800, 7300, 6500, 8000, 7500, 8300, 7800, 7100, 7000, 7300, 7300, 7500, 7400, 7600, 7200, 7500, 7000, 7700, 7700, 7400, 6100, 8500, 7500, 6000, 7400, 6600, 6600, 7600, 7400, 7900, 8000, 6400, 7100, 6400, 7900, 7900, 7600, 7600, 6200, 7600, 7100, 6100, 7200, 7400, 6500, 6300, 7400, 7400, 6500, 6100, 7500, 6400, 8200, 7200, 7000, 5900, 7400, 6700, 7400, 6600, 7300, 7300, 7000, 6500, 7600, 7200, 6500, 7000, 6700, 6600, 7300, 6000, 6300, 5800, 3800, 6800, 6500, 7100, 7000, 7700, 6900, 3600, 6100, 6400, 5200, 5700, 2300, 5800], \"y0\": \" \", \"yaxis\": \"y\"}, {\"alignmentgroup\": \"True\", \"box\": {\"visible\": false}, \"hovertemplate\": \"StreamingOn=%{x}<br>IMDb=%{y}<extra></extra>\", \"legendgroup\": \"Hulu\", \"marker\": {\"color\": \"#EF553B\"}, \"name\": \"Hulu\", \"offsetgroup\": \"Hulu\", \"orientation\": \"v\", \"scalegroup\": \"True\", \"showlegend\": true, \"type\": \"violin\", \"x\": [\"Hulu\", \"Hulu\", \"Hulu\", \"Hulu\", \"Hulu\", \"Hulu\", \"Hulu\", \"Hulu\", \"Hulu\", \"Hulu\", \"Hulu\", \"Hulu\", \"Hulu\", \"Hulu\", \"Hulu\", \"Hulu\", \"Hulu\", \"Hulu\", \"Hulu\", \"Hulu\", \"Hulu\", \"Hulu\", \"Hulu\", \"Hulu\", \"Hulu\", \"Hulu\", \"Hulu\", \"Hulu\", \"Hulu\", \"Hulu\", \"Hulu\", \"Hulu\", \"Hulu\", \"Hulu\", \"Hulu\", \"Hulu\", \"Hulu\", \"Hulu\", \"Hulu\", \"Hulu\", \"Hulu\", \"Hulu\", \"Hulu\", \"Hulu\", \"Hulu\", \"Hulu\", \"Hulu\", \"Hulu\", \"Hulu\", \"Hulu\", \"Hulu\", \"Hulu\", \"Hulu\", \"Hulu\", \"Hulu\", \"Hulu\", \"Hulu\", \"Hulu\", \"Hulu\", \"Hulu\", \"Hulu\", \"Hulu\", \"Hulu\", \"Hulu\", \"Hulu\", \"Hulu\", \"Hulu\", \"Hulu\", \"Hulu\", \"Hulu\", \"Hulu\", \"Hulu\", \"Hulu\", \"Hulu\", \"Hulu\", \"Hulu\", \"Hulu\", \"Hulu\", \"Hulu\", \"Hulu\", \"Hulu\", \"Hulu\", \"Hulu\", \"Hulu\", \"Hulu\", \"Hulu\", \"Hulu\", \"Hulu\", \"Hulu\", \"Hulu\", \"Hulu\", \"Hulu\", \"Hulu\", \"Hulu\", \"Hulu\", \"Hulu\", \"Hulu\", \"Hulu\", \"Hulu\", \"Hulu\", \"Hulu\", \"Hulu\", \"Hulu\", \"Hulu\", \"Hulu\", \"Hulu\", \"Hulu\", \"Hulu\", \"Hulu\", \"Hulu\", \"Hulu\", \"Hulu\", \"Hulu\", \"Hulu\", \"Hulu\", \"Hulu\", \"Hulu\", \"Hulu\", \"Hulu\", \"Hulu\", \"Hulu\", \"Hulu\", \"Hulu\", \"Hulu\", \"Hulu\", \"Hulu\", \"Hulu\", \"Hulu\", \"Hulu\", \"Hulu\", \"Hulu\", \"Hulu\", \"Hulu\", \"Hulu\", \"Hulu\", \"Hulu\", \"Hulu\", \"Hulu\", \"Hulu\", \"Hulu\", \"Hulu\", \"Hulu\", \"Hulu\", \"Hulu\", \"Hulu\", \"Hulu\", \"Hulu\", \"Hulu\", \"Hulu\", \"Hulu\", \"Hulu\", \"Hulu\", \"Hulu\", \"Hulu\", \"Hulu\", \"Hulu\", \"Hulu\", \"Hulu\", \"Hulu\", \"Hulu\", \"Hulu\", \"Hulu\", \"Hulu\", \"Hulu\", \"Hulu\", \"Hulu\", \"Hulu\", \"Hulu\", \"Hulu\", \"Hulu\"], \"x0\": \" \", \"xaxis\": \"x2\", \"y\": [8600, 8800, 8200, 7600, 8700, 8100, 7400, 8600, 7900, 7800, 6600, 6000, 8500, 8400, 8700, 8300, 9000, 8700, 8300, 8400, 8600, 8400, 8600, 8600, 8300, 8600, 8700, 8100, 8200, 8300, 7900, 8600, 8800, 7700, 8000, 8600, 8200, 8000, 8000, 8500, 7800, 7500, 7800, 7800, 8300, 8400, 8100, 8800, 7700, 7600, 8100, 7500, 7400, 8000, 7800, 7300, 8200, 7000, 7700, 8000, 8400, 8100, 8100, 7600, 7700, 6900, 8000, 8200, 7400, 7900, 7400, 8300, 8000, 8300, 7300, 7200, 7600, 6500, 7100, 6700, 7800, 7400, 8300, 8000, 7300, 6900, 7100, 7900, 8000, 7600, 8200, 7500, 7800, 7900, 7700, 6800, 8400, 7900, 6700, 7900, 7100, 7700, 7500, 7800, 7400, 7300, 7500, 7000, 7500, 7300, 7300, 7700, 6700, 7600, 7000, 8100, 7200, 6900, 7300, 7500, 7700, 7600, 7000, 7000, 7400, 6700, 7400, 7000, 5300, 7300, 7100, 7600, 6200, 6200, 7500, 7400, 8100, 7900, 7700, 6200, 7400, 5600, 6700, 6700, 5900, 6200, 4900, 6900, 7700, 4100, 5900, 7600, 6400, 6200, 7200, 7000, 5700, 7900, 6600, 7000, 6700, 5600, 5700, 7400, 4300, 6300, 6600, 6400, 7300, 4200], \"y0\": \" \", \"yaxis\": \"y2\"}, {\"alignmentgroup\": \"True\", \"box\": {\"visible\": false}, \"hovertemplate\": \"StreamingOn=%{x}<br>IMDb=%{y}<extra></extra>\", \"legendgroup\": \"Prime Video\", \"marker\": {\"color\": \"#00cc96\"}, \"name\": \"Prime Video\", \"offsetgroup\": \"Prime Video\", \"orientation\": \"v\", \"scalegroup\": \"True\", \"showlegend\": true, \"type\": \"violin\", \"x\": [\"Prime Video\", \"Prime Video\", \"Prime Video\", \"Prime Video\", \"Prime Video\", \"Prime Video\", \"Prime Video\", \"Prime Video\", \"Prime Video\", \"Prime Video\", \"Prime Video\", \"Prime Video\", \"Prime Video\", \"Prime Video\", \"Prime Video\", \"Prime Video\", \"Prime Video\", \"Prime Video\", \"Prime Video\", \"Prime Video\", \"Prime Video\", \"Prime Video\", \"Prime Video\", \"Prime Video\", \"Prime Video\", \"Prime Video\", \"Prime Video\", \"Prime Video\", \"Prime Video\", \"Prime Video\", \"Prime Video\", \"Prime Video\", \"Prime Video\", \"Prime Video\", \"Prime Video\", \"Prime Video\", \"Prime Video\", \"Prime Video\", \"Prime Video\", \"Prime Video\", \"Prime Video\", \"Prime Video\", \"Prime Video\", \"Prime Video\", \"Prime Video\", \"Prime Video\", \"Prime Video\", \"Prime Video\", \"Prime Video\", \"Prime Video\", \"Prime Video\", \"Prime Video\", \"Prime Video\", \"Prime Video\", \"Prime Video\", \"Prime Video\", \"Prime Video\", \"Prime Video\", \"Prime Video\", \"Prime Video\", \"Prime Video\", \"Prime Video\", \"Prime Video\", \"Prime Video\", \"Prime Video\", \"Prime Video\", \"Prime Video\", \"Prime Video\", \"Prime Video\", \"Prime Video\", \"Prime Video\", \"Prime Video\", \"Prime Video\", \"Prime Video\", \"Prime Video\", \"Prime Video\", \"Prime Video\", \"Prime Video\", \"Prime Video\", \"Prime Video\", \"Prime Video\", \"Prime Video\", \"Prime Video\", \"Prime Video\", \"Prime Video\", \"Prime Video\", \"Prime Video\", \"Prime Video\", \"Prime Video\", \"Prime Video\", \"Prime Video\", \"Prime Video\", \"Prime Video\", \"Prime Video\", \"Prime Video\", \"Prime Video\", \"Prime Video\", \"Prime Video\", \"Prime Video\"], \"x0\": \" \", \"xaxis\": \"x3\", \"y\": [8600, 8600, 8300, 7800, 8400, 7000, 6400, 8500, 8200, 8500, 7500, 8100, 6900, 8000, 7600, 8500, 8400, 8700, 8300, 8700, 8200, 8200, 8300, 8300, 8400, 8700, 8100, 7600, 8300, 7800, 8100, 8600, 8300, 8700, 8200, 7900, 8200, 8600, 8300, 7300, 8500, 7100, 8200, 8000, 8000, 8100, 7500, 8100, 7000, 7900, 7400, 7900, 7400, 8100, 7700, 8200, 7300, 7800, 6600, 7100, 7500, 6400, 7300, 7400, 7900, 6900, 7500, 7900, 8200, 7500, 7400, 6900, 7900, 7200, 7300, 7200, 7400, 7700, 6900, 6100, 6700, 7000, 8500, 6100, 6200, 6400, 6600, 6200, 6700, 6300, 6600, 6400, 5900, 6600, 7500, 7200, 3800, 4800, 6100], \"y0\": \" \", \"yaxis\": \"y3\"}, {\"alignmentgroup\": \"True\", \"box\": {\"visible\": false}, \"hovertemplate\": \"StreamingOn=%{x}<br>IMDb=%{y}<extra></extra>\", \"legendgroup\": \"Disney+\", \"marker\": {\"color\": \"#ab63fa\"}, \"name\": \"Disney+\", \"offsetgroup\": \"Disney+\", \"orientation\": \"v\", \"scalegroup\": \"True\", \"showlegend\": true, \"type\": \"violin\", \"x\": [\"Disney+\", \"Disney+\", \"Disney+\", \"Disney+\", \"Disney+\", \"Disney+\", \"Disney+\", \"Disney+\", \"Disney+\", \"Disney+\"], \"x0\": \" \", \"xaxis\": \"x4\", \"y\": [8700, 7000, 8700, 8200, 8400, 8800, 7300, 8000, 8000, 5000], \"y0\": \" \", \"yaxis\": \"y4\"}, {\"alignmentgroup\": \"True\", \"box\": {\"visible\": false}, \"hovertemplate\": \"StreamingOn=%{x}<br>Rotten Tomatoes=%{y}<extra></extra>\", \"legendgroup\": \"Netflix\", \"marker\": {\"color\": \"#636efa\"}, \"name\": \"Netflix\", \"offsetgroup\": \"Netflix\", \"orientation\": \"v\", \"scalegroup\": \"True\", \"showlegend\": true, \"type\": \"violin\", \"x\": [\"Netflix\", \"Netflix\", \"Netflix\", \"Netflix\", \"Netflix\", \"Netflix\", \"Netflix\", \"Netflix\", \"Netflix\", \"Netflix\", \"Netflix\", \"Netflix\", \"Netflix\", \"Netflix\", \"Netflix\", \"Netflix\", \"Netflix\", \"Netflix\", \"Netflix\", \"Netflix\", \"Netflix\", \"Netflix\", \"Netflix\", \"Netflix\", \"Netflix\", \"Netflix\", \"Netflix\", \"Netflix\", \"Netflix\", \"Netflix\", \"Netflix\", \"Netflix\", \"Netflix\", \"Netflix\", \"Netflix\", \"Netflix\", \"Netflix\", \"Netflix\", \"Netflix\", \"Netflix\", \"Netflix\", \"Netflix\", \"Netflix\", \"Netflix\", \"Netflix\", \"Netflix\", \"Netflix\", \"Netflix\", \"Netflix\", \"Netflix\", \"Netflix\", \"Netflix\", \"Netflix\", \"Netflix\", \"Netflix\", \"Netflix\", \"Netflix\", \"Netflix\", \"Netflix\", \"Netflix\", \"Netflix\", \"Netflix\", \"Netflix\", \"Netflix\", \"Netflix\", \"Netflix\", \"Netflix\", \"Netflix\", \"Netflix\", \"Netflix\", \"Netflix\", \"Netflix\", \"Netflix\", \"Netflix\", \"Netflix\", \"Netflix\", \"Netflix\", \"Netflix\", \"Netflix\", \"Netflix\", \"Netflix\", \"Netflix\", \"Netflix\", \"Netflix\", \"Netflix\", \"Netflix\", \"Netflix\", \"Netflix\", \"Netflix\", \"Netflix\", \"Netflix\", \"Netflix\", \"Netflix\", \"Netflix\", \"Netflix\", \"Netflix\", \"Netflix\", \"Netflix\", \"Netflix\", \"Netflix\", \"Netflix\", \"Netflix\", \"Netflix\", \"Netflix\", \"Netflix\", \"Netflix\", \"Netflix\", \"Netflix\", \"Netflix\", \"Netflix\", \"Netflix\", \"Netflix\", \"Netflix\", \"Netflix\", \"Netflix\", \"Netflix\", \"Netflix\", \"Netflix\", \"Netflix\", \"Netflix\", \"Netflix\", \"Netflix\", \"Netflix\", \"Netflix\", \"Netflix\", \"Netflix\", \"Netflix\", \"Netflix\", \"Netflix\", \"Netflix\", \"Netflix\", \"Netflix\", \"Netflix\", \"Netflix\", \"Netflix\", \"Netflix\", \"Netflix\", \"Netflix\", \"Netflix\", \"Netflix\", \"Netflix\", \"Netflix\", \"Netflix\", \"Netflix\", \"Netflix\", \"Netflix\", \"Netflix\", \"Netflix\", \"Netflix\", \"Netflix\", \"Netflix\", \"Netflix\", \"Netflix\", \"Netflix\", \"Netflix\", \"Netflix\", \"Netflix\", \"Netflix\", \"Netflix\", \"Netflix\", \"Netflix\", \"Netflix\", \"Netflix\", \"Netflix\", \"Netflix\", \"Netflix\", \"Netflix\", \"Netflix\", \"Netflix\", \"Netflix\", \"Netflix\", \"Netflix\", \"Netflix\", \"Netflix\", \"Netflix\", \"Netflix\", \"Netflix\", \"Netflix\", \"Netflix\", \"Netflix\", \"Netflix\", \"Netflix\", \"Netflix\", \"Netflix\", \"Netflix\", \"Netflix\", \"Netflix\", \"Netflix\", \"Netflix\", \"Netflix\", \"Netflix\", \"Netflix\", \"Netflix\", \"Netflix\", \"Netflix\"], \"x0\": \" \", \"xaxis\": \"x5\", \"y\": [93, 91, 97, 81, 83, 93, 81, 81, 89, 93, 67, 89, 91, 85, 97, 93, 91, 89, 91, 87, 83, 93, 75, 85, 89, 97, 93, 97, 91, 91, 93, 71, 81, 97, 85, 87, 91, 89, 95, 83, 77, 63, 99, 93, 75, 93, 87, 93, 93, 77, 85, 87, 85, 85, 91, 83, 89, 93, 39, 85, 75, 93, 99, 87, 93, 75, 67, 99, 97, 89, 85, 87, 95, 87, 57, 97, 89, 97, 69, 89, 89, 83, 89, 95, 85, 67, 91, 71, 97, 77, 57, 77, 95, 91, 63, 91, 81, 67, 81, 65, 93, 89, 27, 81, 45, 93, 71, 81, 77, 37, 65, 93, 97, 97, 83, 85, 97, 57, 57, 65, 91, 75, 77, 51, 77, 63, 75, 95, 93, 61, 73, 33, 51, 11, 95, 77, 93, 95, 83, 77, 75, 75, 83, 39, 95, 95, 67, 71, 55, 77, 73, 47, 81, 97, 89, 75, 33, 91, 73, 95, 35, 75, 35, 93, 77, 79, 79, 83, 33, 73, 41, 63, 79, 37, 75, 19, 67, 67, 63, 67, 77, 71, 33, 57, 83, 71, 43, 67, 75, 41, 37, 81, 17, 31, 41], \"y0\": \" \", \"yaxis\": \"y5\"}, {\"alignmentgroup\": \"True\", \"box\": {\"visible\": false}, \"hovertemplate\": \"StreamingOn=%{x}<br>Rotten Tomatoes=%{y}<extra></extra>\", \"legendgroup\": \"Hulu\", \"marker\": {\"color\": \"#EF553B\"}, \"name\": \"Hulu\", \"offsetgroup\": \"Hulu\", \"orientation\": \"v\", \"scalegroup\": \"True\", \"showlegend\": true, \"type\": \"violin\", \"x\": [\"Hulu\", \"Hulu\", \"Hulu\", \"Hulu\", \"Hulu\", \"Hulu\", \"Hulu\", \"Hulu\", \"Hulu\", \"Hulu\", \"Hulu\", \"Hulu\", \"Hulu\", \"Hulu\", \"Hulu\", \"Hulu\", \"Hulu\", \"Hulu\", \"Hulu\", \"Hulu\", \"Hulu\", \"Hulu\", \"Hulu\", \"Hulu\", \"Hulu\", \"Hulu\", \"Hulu\", \"Hulu\", \"Hulu\", \"Hulu\", \"Hulu\", \"Hulu\", \"Hulu\", \"Hulu\", \"Hulu\", \"Hulu\", \"Hulu\", \"Hulu\", \"Hulu\", \"Hulu\", \"Hulu\", \"Hulu\", \"Hulu\", \"Hulu\", \"Hulu\", \"Hulu\", \"Hulu\", \"Hulu\", \"Hulu\", \"Hulu\", \"Hulu\", \"Hulu\", \"Hulu\", \"Hulu\", \"Hulu\", \"Hulu\", \"Hulu\", \"Hulu\", \"Hulu\", \"Hulu\", \"Hulu\", \"Hulu\", \"Hulu\", \"Hulu\", \"Hulu\", \"Hulu\", \"Hulu\", \"Hulu\", \"Hulu\", \"Hulu\", \"Hulu\", \"Hulu\", \"Hulu\", \"Hulu\", \"Hulu\", \"Hulu\", \"Hulu\", \"Hulu\", \"Hulu\", \"Hulu\", \"Hulu\", \"Hulu\", \"Hulu\", \"Hulu\", \"Hulu\", \"Hulu\", \"Hulu\", \"Hulu\", \"Hulu\", \"Hulu\", \"Hulu\", \"Hulu\", \"Hulu\", \"Hulu\", \"Hulu\", \"Hulu\", \"Hulu\", \"Hulu\", \"Hulu\", \"Hulu\", \"Hulu\", \"Hulu\", \"Hulu\", \"Hulu\", \"Hulu\", \"Hulu\", \"Hulu\", \"Hulu\", \"Hulu\", \"Hulu\", \"Hulu\", \"Hulu\", \"Hulu\", \"Hulu\", \"Hulu\", \"Hulu\", \"Hulu\", \"Hulu\", \"Hulu\", \"Hulu\", \"Hulu\", \"Hulu\", \"Hulu\", \"Hulu\", \"Hulu\", \"Hulu\", \"Hulu\", \"Hulu\", \"Hulu\", \"Hulu\", \"Hulu\", \"Hulu\", \"Hulu\", \"Hulu\", \"Hulu\", \"Hulu\", \"Hulu\", \"Hulu\", \"Hulu\", \"Hulu\", \"Hulu\", \"Hulu\", \"Hulu\", \"Hulu\", \"Hulu\", \"Hulu\", \"Hulu\", \"Hulu\", \"Hulu\", \"Hulu\", \"Hulu\", \"Hulu\", \"Hulu\", \"Hulu\", \"Hulu\", \"Hulu\", \"Hulu\", \"Hulu\", \"Hulu\", \"Hulu\", \"Hulu\", \"Hulu\", \"Hulu\", \"Hulu\", \"Hulu\", \"Hulu\", \"Hulu\", \"Hulu\", \"Hulu\", \"Hulu\"], \"x0\": \" \", \"xaxis\": \"x6\", \"y\": [93, 89, 97, 83, 75, 71, 81, 89, 87, 77, 51, 63, 93, 97, 85, 85, 85, 81, 83, 95, 87, 97, 91, 97, 83, 75, 97, 91, 85, 91, 95, 97, 83, 81, 93, 97, 69, 87, 65, 83, 69, 91, 81, 99, 85, 99, 87, 97, 91, 87, 95, 83, 95, 87, 91, 79, 81, 87, 77, 89, 87, 91, 89, 85, 97, 73, 97, 89, 79, 89, 77, 89, 81, 97, 89, 57, 75, 97, 91, 87, 83, 61, 95, 97, 85, 89, 75, 75, 67, 65, 91, 79, 81, 53, 93, 61, 95, 93, 77, 75, 83, 75, 75, 95, 87, 77, 93, 75, 59, 85, 73, 97, 91, 73, 67, 67, 67, 73, 41, 77, 67, 73, 95, 39, 91, 67, 51, 65, 89, 77, 43, 83, 59, 59, 81, 43, 83, 81, 83, 73, 33, 89, 9, 39, 77, 47, 43, 11, 93, 17, 33, 67, 81, 93, 83, 79, 93, 73, 89, 67, 23, 67, 67, 85, 25, 9, 21, 25, 83, 67], \"y0\": \" \", \"yaxis\": \"y6\"}, {\"alignmentgroup\": \"True\", \"box\": {\"visible\": false}, \"hovertemplate\": \"StreamingOn=%{x}<br>Rotten Tomatoes=%{y}<extra></extra>\", \"legendgroup\": \"Prime Video\", \"marker\": {\"color\": \"#00cc96\"}, \"name\": \"Prime Video\", \"offsetgroup\": \"Prime Video\", \"orientation\": \"v\", \"scalegroup\": \"True\", \"showlegend\": true, \"type\": \"violin\", \"x\": [\"Prime Video\", \"Prime Video\", \"Prime Video\", \"Prime Video\", \"Prime Video\", \"Prime Video\", \"Prime Video\", \"Prime Video\", \"Prime Video\", \"Prime Video\", \"Prime Video\", \"Prime Video\", \"Prime Video\", \"Prime Video\", \"Prime Video\", \"Prime Video\", \"Prime Video\", \"Prime Video\", \"Prime Video\", \"Prime Video\", \"Prime Video\", \"Prime Video\", \"Prime Video\", \"Prime Video\", \"Prime Video\", \"Prime Video\", \"Prime Video\", \"Prime Video\", \"Prime Video\", \"Prime Video\", \"Prime Video\", \"Prime Video\", \"Prime Video\", \"Prime Video\", \"Prime Video\", \"Prime Video\", \"Prime Video\", \"Prime Video\", \"Prime Video\", \"Prime Video\", \"Prime Video\", \"Prime Video\", \"Prime Video\", \"Prime Video\", \"Prime Video\", \"Prime Video\", \"Prime Video\", \"Prime Video\", \"Prime Video\", \"Prime Video\", \"Prime Video\", \"Prime Video\", \"Prime Video\", \"Prime Video\", \"Prime Video\", \"Prime Video\", \"Prime Video\", \"Prime Video\", \"Prime Video\", \"Prime Video\", \"Prime Video\", \"Prime Video\", \"Prime Video\", \"Prime Video\", \"Prime Video\", \"Prime Video\", \"Prime Video\", \"Prime Video\", \"Prime Video\", \"Prime Video\", \"Prime Video\", \"Prime Video\", \"Prime Video\", \"Prime Video\", \"Prime Video\", \"Prime Video\", \"Prime Video\", \"Prime Video\", \"Prime Video\", \"Prime Video\", \"Prime Video\", \"Prime Video\", \"Prime Video\", \"Prime Video\", \"Prime Video\", \"Prime Video\", \"Prime Video\", \"Prime Video\", \"Prime Video\", \"Prime Video\", \"Prime Video\", \"Prime Video\", \"Prime Video\", \"Prime Video\", \"Prime Video\", \"Prime Video\", \"Prime Video\", \"Prime Video\", \"Prime Video\"], \"x0\": \" \", \"xaxis\": \"x7\", \"y\": [93, 89, 89, 77, 45, 51, 73, 93, 85, 83, 91, 87, 89, 67, 67, 93, 97, 89, 93, 81, 81, 89, 89, 93, 89, 89, 71, 81, 91, 89, 91, 59, 57, 85, 93, 57, 91, 93, 87, 89, 81, 71, 77, 89, 75, 81, 67, 97, 77, 93, 95, 79, 77, 65, 95, 87, 91, 91, 77, 71, 87, 77, 57, 69, 95, 95, 53, 79, 73, 79, 81, 67, 45, 83, 83, 87, 73, 83, 59, 79, 65, 85, 97, 79, 87, 57, 63, 57, 19, 33, 17, 75, 71, 63, 47, 37, 35, 15, 63], \"y0\": \" \", \"yaxis\": \"y7\"}, {\"alignmentgroup\": \"True\", \"box\": {\"visible\": false}, \"hovertemplate\": \"StreamingOn=%{x}<br>Rotten Tomatoes=%{y}<extra></extra>\", \"legendgroup\": \"Disney+\", \"marker\": {\"color\": \"#ab63fa\"}, \"name\": \"Disney+\", \"offsetgroup\": \"Disney+\", \"orientation\": \"v\", \"scalegroup\": \"True\", \"showlegend\": true, \"type\": \"violin\", \"x\": [\"Disney+\", \"Disney+\", \"Disney+\", \"Disney+\", \"Disney+\", \"Disney+\", \"Disney+\", \"Disney+\", \"Disney+\", \"Disney+\"], \"x0\": \" \", \"xaxis\": \"x8\", \"y\": [85, 87, 93, 93, 85, 83, 79, 67, 83, 11], \"y0\": \" \", \"yaxis\": \"y8\"}],                        {\"autosize\": false, \"height\": 800, \"template\": {\"data\": {\"bar\": [{\"error_x\": {\"color\": \"#2a3f5f\"}, \"error_y\": {\"color\": \"#2a3f5f\"}, \"marker\": {\"line\": {\"color\": \"#E5ECF6\", \"width\": 0.5}}, \"type\": \"bar\"}], \"barpolar\": [{\"marker\": {\"line\": {\"color\": \"#E5ECF6\", \"width\": 0.5}}, \"type\": \"barpolar\"}], \"carpet\": [{\"aaxis\": {\"endlinecolor\": \"#2a3f5f\", \"gridcolor\": \"white\", \"linecolor\": \"white\", \"minorgridcolor\": \"white\", \"startlinecolor\": \"#2a3f5f\"}, \"baxis\": {\"endlinecolor\": \"#2a3f5f\", \"gridcolor\": \"white\", \"linecolor\": \"white\", \"minorgridcolor\": \"white\", \"startlinecolor\": \"#2a3f5f\"}, \"type\": \"carpet\"}], \"choropleth\": [{\"colorbar\": {\"outlinewidth\": 0, \"ticks\": \"\"}, \"type\": \"choropleth\"}], \"contour\": [{\"colorbar\": {\"outlinewidth\": 0, \"ticks\": \"\"}, \"colorscale\": [[0.0, \"#0d0887\"], [0.1111111111111111, \"#46039f\"], [0.2222222222222222, \"#7201a8\"], [0.3333333333333333, \"#9c179e\"], [0.4444444444444444, \"#bd3786\"], [0.5555555555555556, \"#d8576b\"], [0.6666666666666666, \"#ed7953\"], [0.7777777777777778, \"#fb9f3a\"], [0.8888888888888888, \"#fdca26\"], [1.0, \"#f0f921\"]], \"type\": \"contour\"}], \"contourcarpet\": [{\"colorbar\": {\"outlinewidth\": 0, \"ticks\": \"\"}, \"type\": \"contourcarpet\"}], \"heatmap\": [{\"colorbar\": {\"outlinewidth\": 0, \"ticks\": \"\"}, \"colorscale\": [[0.0, \"#0d0887\"], [0.1111111111111111, \"#46039f\"], [0.2222222222222222, \"#7201a8\"], [0.3333333333333333, \"#9c179e\"], [0.4444444444444444, \"#bd3786\"], [0.5555555555555556, \"#d8576b\"], [0.6666666666666666, \"#ed7953\"], [0.7777777777777778, \"#fb9f3a\"], [0.8888888888888888, \"#fdca26\"], [1.0, \"#f0f921\"]], \"type\": \"heatmap\"}], \"heatmapgl\": [{\"colorbar\": {\"outlinewidth\": 0, \"ticks\": \"\"}, \"colorscale\": [[0.0, \"#0d0887\"], [0.1111111111111111, \"#46039f\"], [0.2222222222222222, \"#7201a8\"], [0.3333333333333333, \"#9c179e\"], [0.4444444444444444, \"#bd3786\"], [0.5555555555555556, \"#d8576b\"], [0.6666666666666666, \"#ed7953\"], [0.7777777777777778, \"#fb9f3a\"], [0.8888888888888888, \"#fdca26\"], [1.0, \"#f0f921\"]], \"type\": \"heatmapgl\"}], \"histogram\": [{\"marker\": {\"colorbar\": {\"outlinewidth\": 0, \"ticks\": \"\"}}, \"type\": \"histogram\"}], \"histogram2d\": [{\"colorbar\": {\"outlinewidth\": 0, \"ticks\": \"\"}, \"colorscale\": [[0.0, \"#0d0887\"], [0.1111111111111111, \"#46039f\"], [0.2222222222222222, \"#7201a8\"], [0.3333333333333333, \"#9c179e\"], [0.4444444444444444, \"#bd3786\"], [0.5555555555555556, \"#d8576b\"], [0.6666666666666666, \"#ed7953\"], [0.7777777777777778, \"#fb9f3a\"], [0.8888888888888888, \"#fdca26\"], [1.0, \"#f0f921\"]], \"type\": \"histogram2d\"}], \"histogram2dcontour\": [{\"colorbar\": {\"outlinewidth\": 0, \"ticks\": \"\"}, \"colorscale\": [[0.0, \"#0d0887\"], [0.1111111111111111, \"#46039f\"], [0.2222222222222222, \"#7201a8\"], [0.3333333333333333, \"#9c179e\"], [0.4444444444444444, \"#bd3786\"], [0.5555555555555556, \"#d8576b\"], [0.6666666666666666, \"#ed7953\"], [0.7777777777777778, \"#fb9f3a\"], [0.8888888888888888, \"#fdca26\"], [1.0, \"#f0f921\"]], \"type\": \"histogram2dcontour\"}], \"mesh3d\": [{\"colorbar\": {\"outlinewidth\": 0, \"ticks\": \"\"}, \"type\": \"mesh3d\"}], \"parcoords\": [{\"line\": {\"colorbar\": {\"outlinewidth\": 0, \"ticks\": \"\"}}, \"type\": \"parcoords\"}], \"pie\": [{\"automargin\": true, \"type\": \"pie\"}], \"scatter\": [{\"marker\": {\"colorbar\": {\"outlinewidth\": 0, \"ticks\": \"\"}}, \"type\": \"scatter\"}], \"scatter3d\": [{\"line\": {\"colorbar\": {\"outlinewidth\": 0, \"ticks\": \"\"}}, \"marker\": {\"colorbar\": {\"outlinewidth\": 0, \"ticks\": \"\"}}, \"type\": \"scatter3d\"}], \"scattercarpet\": [{\"marker\": {\"colorbar\": {\"outlinewidth\": 0, \"ticks\": \"\"}}, \"type\": \"scattercarpet\"}], \"scattergeo\": [{\"marker\": {\"colorbar\": {\"outlinewidth\": 0, \"ticks\": \"\"}}, \"type\": \"scattergeo\"}], \"scattergl\": [{\"marker\": {\"colorbar\": {\"outlinewidth\": 0, \"ticks\": \"\"}}, \"type\": \"scattergl\"}], \"scattermapbox\": [{\"marker\": {\"colorbar\": {\"outlinewidth\": 0, \"ticks\": \"\"}}, \"type\": \"scattermapbox\"}], \"scatterpolar\": [{\"marker\": {\"colorbar\": {\"outlinewidth\": 0, \"ticks\": \"\"}}, \"type\": \"scatterpolar\"}], \"scatterpolargl\": [{\"marker\": {\"colorbar\": {\"outlinewidth\": 0, \"ticks\": \"\"}}, \"type\": \"scatterpolargl\"}], \"scatterternary\": [{\"marker\": {\"colorbar\": {\"outlinewidth\": 0, \"ticks\": \"\"}}, \"type\": \"scatterternary\"}], \"surface\": [{\"colorbar\": {\"outlinewidth\": 0, \"ticks\": \"\"}, \"colorscale\": [[0.0, \"#0d0887\"], [0.1111111111111111, \"#46039f\"], [0.2222222222222222, \"#7201a8\"], [0.3333333333333333, \"#9c179e\"], [0.4444444444444444, \"#bd3786\"], [0.5555555555555556, \"#d8576b\"], [0.6666666666666666, \"#ed7953\"], [0.7777777777777778, \"#fb9f3a\"], [0.8888888888888888, \"#fdca26\"], [1.0, \"#f0f921\"]], \"type\": \"surface\"}], \"table\": [{\"cells\": {\"fill\": {\"color\": \"#EBF0F8\"}, \"line\": {\"color\": \"white\"}}, \"header\": {\"fill\": {\"color\": \"#C8D4E3\"}, \"line\": {\"color\": \"white\"}}, \"type\": \"table\"}]}, \"layout\": {\"annotationdefaults\": {\"arrowcolor\": \"#2a3f5f\", \"arrowhead\": 0, \"arrowwidth\": 1}, \"autotypenumbers\": \"strict\", \"coloraxis\": {\"colorbar\": {\"outlinewidth\": 0, \"ticks\": \"\"}}, \"colorscale\": {\"diverging\": [[0, \"#8e0152\"], [0.1, \"#c51b7d\"], [0.2, \"#de77ae\"], [0.3, \"#f1b6da\"], [0.4, \"#fde0ef\"], [0.5, \"#f7f7f7\"], [0.6, \"#e6f5d0\"], [0.7, \"#b8e186\"], [0.8, \"#7fbc41\"], [0.9, \"#4d9221\"], [1, \"#276419\"]], \"sequential\": [[0.0, \"#0d0887\"], [0.1111111111111111, \"#46039f\"], [0.2222222222222222, \"#7201a8\"], [0.3333333333333333, \"#9c179e\"], [0.4444444444444444, \"#bd3786\"], [0.5555555555555556, \"#d8576b\"], [0.6666666666666666, \"#ed7953\"], [0.7777777777777778, \"#fb9f3a\"], [0.8888888888888888, \"#fdca26\"], [1.0, \"#f0f921\"]], \"sequentialminus\": [[0.0, \"#0d0887\"], [0.1111111111111111, \"#46039f\"], [0.2222222222222222, \"#7201a8\"], [0.3333333333333333, \"#9c179e\"], [0.4444444444444444, \"#bd3786\"], [0.5555555555555556, \"#d8576b\"], [0.6666666666666666, \"#ed7953\"], [0.7777777777777778, \"#fb9f3a\"], [0.8888888888888888, \"#fdca26\"], [1.0, \"#f0f921\"]]}, \"colorway\": [\"#636efa\", \"#EF553B\", \"#00cc96\", \"#ab63fa\", \"#FFA15A\", \"#19d3f3\", \"#FF6692\", \"#B6E880\", \"#FF97FF\", \"#FECB52\"], \"font\": {\"color\": \"#2a3f5f\"}, \"geo\": {\"bgcolor\": \"white\", \"lakecolor\": \"white\", \"landcolor\": \"#E5ECF6\", \"showlakes\": true, \"showland\": true, \"subunitcolor\": \"white\"}, \"hoverlabel\": {\"align\": \"left\"}, \"hovermode\": \"closest\", \"mapbox\": {\"style\": \"light\"}, \"paper_bgcolor\": \"white\", \"plot_bgcolor\": \"#E5ECF6\", \"polar\": {\"angularaxis\": {\"gridcolor\": \"white\", \"linecolor\": \"white\", \"ticks\": \"\"}, \"bgcolor\": \"#E5ECF6\", \"radialaxis\": {\"gridcolor\": \"white\", \"linecolor\": \"white\", \"ticks\": \"\"}}, \"scene\": {\"xaxis\": {\"backgroundcolor\": \"#E5ECF6\", \"gridcolor\": \"white\", \"gridwidth\": 2, \"linecolor\": \"white\", \"showbackground\": true, \"ticks\": \"\", \"zerolinecolor\": \"white\"}, \"yaxis\": {\"backgroundcolor\": \"#E5ECF6\", \"gridcolor\": \"white\", \"gridwidth\": 2, \"linecolor\": \"white\", \"showbackground\": true, \"ticks\": \"\", \"zerolinecolor\": \"white\"}, \"zaxis\": {\"backgroundcolor\": \"#E5ECF6\", \"gridcolor\": \"white\", \"gridwidth\": 2, \"linecolor\": \"white\", \"showbackground\": true, \"ticks\": \"\", \"zerolinecolor\": \"white\"}}, \"shapedefaults\": {\"line\": {\"color\": \"#2a3f5f\"}}, \"ternary\": {\"aaxis\": {\"gridcolor\": \"white\", \"linecolor\": \"white\", \"ticks\": \"\"}, \"baxis\": {\"gridcolor\": \"white\", \"linecolor\": \"white\", \"ticks\": \"\"}, \"bgcolor\": \"#E5ECF6\", \"caxis\": {\"gridcolor\": \"white\", \"linecolor\": \"white\", \"ticks\": \"\"}}, \"title\": {\"x\": 0.05}, \"xaxis\": {\"automargin\": true, \"gridcolor\": \"white\", \"linecolor\": \"white\", \"ticks\": \"\", \"title\": {\"standoff\": 15}, \"zerolinecolor\": \"white\", \"zerolinewidth\": 2}, \"yaxis\": {\"automargin\": true, \"gridcolor\": \"white\", \"linecolor\": \"white\", \"ticks\": \"\", \"title\": {\"standoff\": 15}, \"zerolinecolor\": \"white\", \"zerolinewidth\": 2}}}, \"width\": 800, \"xaxis\": {\"anchor\": \"y\", \"domain\": [0.0, 0.2125]}, \"xaxis2\": {\"anchor\": \"y2\", \"domain\": [0.2625, 0.475]}, \"xaxis3\": {\"anchor\": \"y3\", \"domain\": [0.525, 0.7375]}, \"xaxis4\": {\"anchor\": \"y4\", \"domain\": [0.7875, 1.0]}, \"xaxis5\": {\"anchor\": \"y5\", \"domain\": [0.0, 0.2125]}, \"xaxis6\": {\"anchor\": \"y6\", \"domain\": [0.2625, 0.475]}, \"xaxis7\": {\"anchor\": \"y7\", \"domain\": [0.525, 0.7375]}, \"xaxis8\": {\"anchor\": \"y8\", \"domain\": [0.7875, 1.0]}, \"yaxis\": {\"anchor\": \"x\", \"domain\": [0.575, 1.0]}, \"yaxis2\": {\"anchor\": \"x2\", \"domain\": [0.575, 1.0], \"matches\": \"y\", \"showticklabels\": false}, \"yaxis3\": {\"anchor\": \"x3\", \"domain\": [0.575, 1.0], \"matches\": \"y\", \"showticklabels\": false}, \"yaxis4\": {\"anchor\": \"x4\", \"domain\": [0.575, 1.0], \"matches\": \"y\", \"showticklabels\": false}, \"yaxis5\": {\"anchor\": \"x5\", \"domain\": [0.0, 0.425]}, \"yaxis6\": {\"anchor\": \"x6\", \"domain\": [0.0, 0.425], \"matches\": \"y5\", \"showticklabels\": false}, \"yaxis7\": {\"anchor\": \"x7\", \"domain\": [0.0, 0.425], \"matches\": \"y5\", \"showticklabels\": false}, \"yaxis8\": {\"anchor\": \"x8\", \"domain\": [0.0, 0.425], \"matches\": \"y5\", \"showticklabels\": false}},                        {\"responsive\": true}                    ).then(function(){\n",
       "                            \n",
       "var gd = document.getElementById('950e1f57-1b0d-41ed-be0f-264ebd343dd4');\n",
       "var x = new MutationObserver(function (mutations, observer) {{\n",
       "        var display = window.getComputedStyle(gd).display;\n",
       "        if (!display || display === 'none') {{\n",
       "            console.log([gd, 'removed!']);\n",
       "            Plotly.purge(gd);\n",
       "            observer.disconnect();\n",
       "        }}\n",
       "}});\n",
       "\n",
       "// Listen for the removal of the full notebook cells\n",
       "var notebookContainer = gd.closest('#notebook-container');\n",
       "if (notebookContainer) {{\n",
       "    x.observe(notebookContainer, {childList: true});\n",
       "}}\n",
       "\n",
       "// Listen for the clearing of the current output cell\n",
       "var outputEl = gd.closest('.output');\n",
       "if (outputEl) {{\n",
       "    x.observe(outputEl, {childList: true});\n",
       "}}\n",
       "\n",
       "                        })                };                });            </script>        </div>"
      ]
     },
     "metadata": {},
     "output_type": "display_data"
    }
   ],
   "source": [
    "## Finding the best streaming service.\n",
    "\n",
    "figure = []\n",
    "figure.append(px.violin(tv_shows_both_ratings, x='StreamingOn', y='IMDb', color='StreamingOn'))\n",
    "figure.append(px.violin(tv_shows_both_ratings, x='StreamingOn', y='Rotten Tomatoes', color='StreamingOn'))\n",
    "fig = make_subplots(rows=2, cols=4, shared_yaxes=True)\n",
    "\n",
    "for i in range(2):\n",
    "    for j in range(4):\n",
    "        fig.add_trace(figure[i]['data'][j], row = i+1, col=j+1)\n",
    "        \n",
    "fig.update_layout(autosize=False, width=800, height=800)\n",
    "fig.show()"
   ]
  },
  {
   "cell_type": "code",
   "execution_count": 26,
   "metadata": {},
   "outputs": [
    {
     "data": {
      "application/vnd.plotly.v1+json": {
       "config": {
        "plotlyServerURL": "https://plot.ly"
       },
       "data": [
        {
         "hovertemplate": "StreamingOn=Netflix<br>IMDb=%{x}<br>Rotten Tomatoes=%{y}<extra></extra>",
         "legendgroup": "Netflix",
         "marker": {
          "color": "#636efa",
          "symbol": "circle"
         },
         "mode": "markers",
         "name": "Netflix",
         "orientation": "v",
         "showlegend": true,
         "type": "scatter",
         "x": [
          8800,
          8400,
          8700,
          8900,
          8800,
          8400,
          8200,
          8400,
          8800,
          8600,
          8300,
          8800,
          8400,
          8600,
          8200,
          8700,
          8000,
          7700,
          8400,
          8200,
          7600,
          8100,
          8700,
          7700,
          8700,
          7600,
          8700,
          8000,
          8200,
          8100,
          8400,
          8100,
          7400,
          8400,
          7600,
          8500,
          7800,
          8600,
          8000,
          8000,
          7900,
          8500,
          8400,
          8100,
          8800,
          8200,
          8300,
          8200,
          9300,
          7800,
          7600,
          7900,
          7700,
          8100,
          7900,
          8000,
          8300,
          8000,
          7800,
          8300,
          7300,
          7700,
          8200,
          6800,
          8100,
          7100,
          7400,
          7800,
          8200,
          7800,
          7800,
          8500,
          8300,
          7300,
          7700,
          8400,
          7500,
          8100,
          8100,
          7300,
          8400,
          7200,
          8300,
          7300,
          7900,
          8000,
          8500,
          7500,
          7900,
          7800,
          7700,
          7200,
          8400,
          8200,
          7500,
          8500,
          7700,
          8100,
          8100,
          7700,
          7400,
          8100,
          8200,
          7700,
          8400,
          7900,
          6700,
          6800,
          7300,
          6500,
          8000,
          7500,
          8300,
          7800,
          7100,
          7000,
          7300,
          7300,
          7500,
          7400,
          7600,
          7200,
          7500,
          7000,
          7700,
          7700,
          7400,
          6100,
          8500,
          7500,
          6000,
          7400,
          6600,
          6600,
          7600,
          7400,
          7900,
          8000,
          6400,
          7100,
          6400,
          7900,
          7900,
          7600,
          7600,
          6200,
          7600,
          7100,
          6100,
          7200,
          7400,
          6500,
          6300,
          7400,
          7400,
          6500,
          6100,
          7500,
          6400,
          8200,
          7200,
          7000,
          5900,
          7400,
          6700,
          7400,
          6600,
          7300,
          7300,
          7000,
          6500,
          7600,
          7200,
          6500,
          7000,
          6700,
          6600,
          7300,
          6000,
          6300,
          5800,
          3800,
          6800,
          6500,
          7100,
          7000,
          7700,
          6900,
          3600,
          6100,
          6400,
          5200,
          5700,
          2300,
          5800
         ],
         "xaxis": "x",
         "y": [
          93,
          91,
          97,
          81,
          83,
          93,
          81,
          81,
          89,
          93,
          67,
          89,
          91,
          85,
          97,
          93,
          91,
          89,
          91,
          87,
          83,
          93,
          75,
          85,
          89,
          97,
          93,
          97,
          91,
          91,
          93,
          71,
          81,
          97,
          85,
          87,
          91,
          89,
          95,
          83,
          77,
          63,
          99,
          93,
          75,
          93,
          87,
          93,
          93,
          77,
          85,
          87,
          85,
          85,
          91,
          83,
          89,
          93,
          39,
          85,
          75,
          93,
          99,
          87,
          93,
          75,
          67,
          99,
          97,
          89,
          85,
          87,
          95,
          87,
          57,
          97,
          89,
          97,
          69,
          89,
          89,
          83,
          89,
          95,
          85,
          67,
          91,
          71,
          97,
          77,
          57,
          77,
          95,
          91,
          63,
          91,
          81,
          67,
          81,
          65,
          93,
          89,
          27,
          81,
          45,
          93,
          71,
          81,
          77,
          37,
          65,
          93,
          97,
          97,
          83,
          85,
          97,
          57,
          57,
          65,
          91,
          75,
          77,
          51,
          77,
          63,
          75,
          95,
          93,
          61,
          73,
          33,
          51,
          11,
          95,
          77,
          93,
          95,
          83,
          77,
          75,
          75,
          83,
          39,
          95,
          95,
          67,
          71,
          55,
          77,
          73,
          47,
          81,
          97,
          89,
          75,
          33,
          91,
          73,
          95,
          35,
          75,
          35,
          93,
          77,
          79,
          79,
          83,
          33,
          73,
          41,
          63,
          79,
          37,
          75,
          19,
          67,
          67,
          63,
          67,
          77,
          71,
          33,
          57,
          83,
          71,
          43,
          67,
          75,
          41,
          37,
          81,
          17,
          31,
          41
         ],
         "yaxis": "y"
        },
        {
         "hovertemplate": "StreamingOn=Hulu<br>IMDb=%{x}<br>Rotten Tomatoes=%{y}<extra></extra>",
         "legendgroup": "Hulu",
         "marker": {
          "color": "#EF553B",
          "symbol": "circle"
         },
         "mode": "markers",
         "name": "Hulu",
         "orientation": "v",
         "showlegend": true,
         "type": "scatter",
         "x": [
          8600,
          8800,
          8200,
          7600,
          8700,
          8100,
          7400,
          8600,
          7900,
          7800,
          6600,
          6000,
          8500,
          8400,
          8700,
          8300,
          9000,
          8700,
          8300,
          8400,
          8600,
          8400,
          8600,
          8600,
          8300,
          8600,
          8700,
          8100,
          8200,
          8300,
          7900,
          8600,
          8800,
          7700,
          8000,
          8600,
          8200,
          8000,
          8000,
          8500,
          7800,
          7500,
          7800,
          7800,
          8300,
          8400,
          8100,
          8800,
          7700,
          7600,
          8100,
          7500,
          7400,
          8000,
          7800,
          7300,
          8200,
          7000,
          7700,
          8000,
          8400,
          8100,
          8100,
          7600,
          7700,
          6900,
          8000,
          8200,
          7400,
          7900,
          7400,
          8300,
          8000,
          8300,
          7300,
          7200,
          7600,
          6500,
          7100,
          6700,
          7800,
          7400,
          8300,
          8000,
          7300,
          6900,
          7100,
          7900,
          8000,
          7600,
          8200,
          7500,
          7800,
          7900,
          7700,
          6800,
          8400,
          7900,
          6700,
          7900,
          7100,
          7700,
          7500,
          7800,
          7400,
          7300,
          7500,
          7000,
          7500,
          7300,
          7300,
          7700,
          6700,
          7600,
          7000,
          8100,
          7200,
          6900,
          7300,
          7500,
          7700,
          7600,
          7000,
          7000,
          7400,
          6700,
          7400,
          7000,
          5300,
          7300,
          7100,
          7600,
          6200,
          6200,
          7500,
          7400,
          8100,
          7900,
          7700,
          6200,
          7400,
          5600,
          6700,
          6700,
          5900,
          6200,
          4900,
          6900,
          7700,
          4100,
          5900,
          7600,
          6400,
          6200,
          7200,
          7000,
          5700,
          7900,
          6600,
          7000,
          6700,
          5600,
          5700,
          7400,
          4300,
          6300,
          6600,
          6400,
          7300,
          4200
         ],
         "xaxis": "x",
         "y": [
          93,
          89,
          97,
          83,
          75,
          71,
          81,
          89,
          87,
          77,
          51,
          63,
          93,
          97,
          85,
          85,
          85,
          81,
          83,
          95,
          87,
          97,
          91,
          97,
          83,
          75,
          97,
          91,
          85,
          91,
          95,
          97,
          83,
          81,
          93,
          97,
          69,
          87,
          65,
          83,
          69,
          91,
          81,
          99,
          85,
          99,
          87,
          97,
          91,
          87,
          95,
          83,
          95,
          87,
          91,
          79,
          81,
          87,
          77,
          89,
          87,
          91,
          89,
          85,
          97,
          73,
          97,
          89,
          79,
          89,
          77,
          89,
          81,
          97,
          89,
          57,
          75,
          97,
          91,
          87,
          83,
          61,
          95,
          97,
          85,
          89,
          75,
          75,
          67,
          65,
          91,
          79,
          81,
          53,
          93,
          61,
          95,
          93,
          77,
          75,
          83,
          75,
          75,
          95,
          87,
          77,
          93,
          75,
          59,
          85,
          73,
          97,
          91,
          73,
          67,
          67,
          67,
          73,
          41,
          77,
          67,
          73,
          95,
          39,
          91,
          67,
          51,
          65,
          89,
          77,
          43,
          83,
          59,
          59,
          81,
          43,
          83,
          81,
          83,
          73,
          33,
          89,
          9,
          39,
          77,
          47,
          43,
          11,
          93,
          17,
          33,
          67,
          81,
          93,
          83,
          79,
          93,
          73,
          89,
          67,
          23,
          67,
          67,
          85,
          25,
          9,
          21,
          25,
          83,
          67
         ],
         "yaxis": "y"
        },
        {
         "hovertemplate": "StreamingOn=Prime Video<br>IMDb=%{x}<br>Rotten Tomatoes=%{y}<extra></extra>",
         "legendgroup": "Prime Video",
         "marker": {
          "color": "#00cc96",
          "symbol": "circle"
         },
         "mode": "markers",
         "name": "Prime Video",
         "orientation": "v",
         "showlegend": true,
         "type": "scatter",
         "x": [
          8600,
          8600,
          8300,
          7800,
          8400,
          7000,
          6400,
          8500,
          8200,
          8500,
          7500,
          8100,
          6900,
          8000,
          7600,
          8500,
          8400,
          8700,
          8300,
          8700,
          8200,
          8200,
          8300,
          8300,
          8400,
          8700,
          8100,
          7600,
          8300,
          7800,
          8100,
          8600,
          8300,
          8700,
          8200,
          7900,
          8200,
          8600,
          8300,
          7300,
          8500,
          7100,
          8200,
          8000,
          8000,
          8100,
          7500,
          8100,
          7000,
          7900,
          7400,
          7900,
          7400,
          8100,
          7700,
          8200,
          7300,
          7800,
          6600,
          7100,
          7500,
          6400,
          7300,
          7400,
          7900,
          6900,
          7500,
          7900,
          8200,
          7500,
          7400,
          6900,
          7900,
          7200,
          7300,
          7200,
          7400,
          7700,
          6900,
          6100,
          6700,
          7000,
          8500,
          6100,
          6200,
          6400,
          6600,
          6200,
          6700,
          6300,
          6600,
          6400,
          5900,
          6600,
          7500,
          7200,
          3800,
          4800,
          6100
         ],
         "xaxis": "x",
         "y": [
          93,
          89,
          89,
          77,
          45,
          51,
          73,
          93,
          85,
          83,
          91,
          87,
          89,
          67,
          67,
          93,
          97,
          89,
          93,
          81,
          81,
          89,
          89,
          93,
          89,
          89,
          71,
          81,
          91,
          89,
          91,
          59,
          57,
          85,
          93,
          57,
          91,
          93,
          87,
          89,
          81,
          71,
          77,
          89,
          75,
          81,
          67,
          97,
          77,
          93,
          95,
          79,
          77,
          65,
          95,
          87,
          91,
          91,
          77,
          71,
          87,
          77,
          57,
          69,
          95,
          95,
          53,
          79,
          73,
          79,
          81,
          67,
          45,
          83,
          83,
          87,
          73,
          83,
          59,
          79,
          65,
          85,
          97,
          79,
          87,
          57,
          63,
          57,
          19,
          33,
          17,
          75,
          71,
          63,
          47,
          37,
          35,
          15,
          63
         ],
         "yaxis": "y"
        },
        {
         "hovertemplate": "StreamingOn=Disney+<br>IMDb=%{x}<br>Rotten Tomatoes=%{y}<extra></extra>",
         "legendgroup": "Disney+",
         "marker": {
          "color": "#ab63fa",
          "symbol": "circle"
         },
         "mode": "markers",
         "name": "Disney+",
         "orientation": "v",
         "showlegend": true,
         "type": "scatter",
         "x": [
          8700,
          7000,
          8700,
          8200,
          8400,
          8800,
          7300,
          8000,
          8000,
          5000
         ],
         "xaxis": "x",
         "y": [
          85,
          87,
          93,
          93,
          85,
          83,
          79,
          67,
          83,
          11
         ],
         "yaxis": "y"
        }
       ],
       "layout": {
        "legend": {
         "title": {
          "text": "StreamingOn"
         },
         "tracegroupgap": 0
        },
        "margin": {
         "t": 60
        },
        "template": {
         "data": {
          "bar": [
           {
            "error_x": {
             "color": "#2a3f5f"
            },
            "error_y": {
             "color": "#2a3f5f"
            },
            "marker": {
             "line": {
              "color": "#E5ECF6",
              "width": 0.5
             }
            },
            "type": "bar"
           }
          ],
          "barpolar": [
           {
            "marker": {
             "line": {
              "color": "#E5ECF6",
              "width": 0.5
             }
            },
            "type": "barpolar"
           }
          ],
          "carpet": [
           {
            "aaxis": {
             "endlinecolor": "#2a3f5f",
             "gridcolor": "white",
             "linecolor": "white",
             "minorgridcolor": "white",
             "startlinecolor": "#2a3f5f"
            },
            "baxis": {
             "endlinecolor": "#2a3f5f",
             "gridcolor": "white",
             "linecolor": "white",
             "minorgridcolor": "white",
             "startlinecolor": "#2a3f5f"
            },
            "type": "carpet"
           }
          ],
          "choropleth": [
           {
            "colorbar": {
             "outlinewidth": 0,
             "ticks": ""
            },
            "type": "choropleth"
           }
          ],
          "contour": [
           {
            "colorbar": {
             "outlinewidth": 0,
             "ticks": ""
            },
            "colorscale": [
             [
              0,
              "#0d0887"
             ],
             [
              0.1111111111111111,
              "#46039f"
             ],
             [
              0.2222222222222222,
              "#7201a8"
             ],
             [
              0.3333333333333333,
              "#9c179e"
             ],
             [
              0.4444444444444444,
              "#bd3786"
             ],
             [
              0.5555555555555556,
              "#d8576b"
             ],
             [
              0.6666666666666666,
              "#ed7953"
             ],
             [
              0.7777777777777778,
              "#fb9f3a"
             ],
             [
              0.8888888888888888,
              "#fdca26"
             ],
             [
              1,
              "#f0f921"
             ]
            ],
            "type": "contour"
           }
          ],
          "contourcarpet": [
           {
            "colorbar": {
             "outlinewidth": 0,
             "ticks": ""
            },
            "type": "contourcarpet"
           }
          ],
          "heatmap": [
           {
            "colorbar": {
             "outlinewidth": 0,
             "ticks": ""
            },
            "colorscale": [
             [
              0,
              "#0d0887"
             ],
             [
              0.1111111111111111,
              "#46039f"
             ],
             [
              0.2222222222222222,
              "#7201a8"
             ],
             [
              0.3333333333333333,
              "#9c179e"
             ],
             [
              0.4444444444444444,
              "#bd3786"
             ],
             [
              0.5555555555555556,
              "#d8576b"
             ],
             [
              0.6666666666666666,
              "#ed7953"
             ],
             [
              0.7777777777777778,
              "#fb9f3a"
             ],
             [
              0.8888888888888888,
              "#fdca26"
             ],
             [
              1,
              "#f0f921"
             ]
            ],
            "type": "heatmap"
           }
          ],
          "heatmapgl": [
           {
            "colorbar": {
             "outlinewidth": 0,
             "ticks": ""
            },
            "colorscale": [
             [
              0,
              "#0d0887"
             ],
             [
              0.1111111111111111,
              "#46039f"
             ],
             [
              0.2222222222222222,
              "#7201a8"
             ],
             [
              0.3333333333333333,
              "#9c179e"
             ],
             [
              0.4444444444444444,
              "#bd3786"
             ],
             [
              0.5555555555555556,
              "#d8576b"
             ],
             [
              0.6666666666666666,
              "#ed7953"
             ],
             [
              0.7777777777777778,
              "#fb9f3a"
             ],
             [
              0.8888888888888888,
              "#fdca26"
             ],
             [
              1,
              "#f0f921"
             ]
            ],
            "type": "heatmapgl"
           }
          ],
          "histogram": [
           {
            "marker": {
             "colorbar": {
              "outlinewidth": 0,
              "ticks": ""
             }
            },
            "type": "histogram"
           }
          ],
          "histogram2d": [
           {
            "colorbar": {
             "outlinewidth": 0,
             "ticks": ""
            },
            "colorscale": [
             [
              0,
              "#0d0887"
             ],
             [
              0.1111111111111111,
              "#46039f"
             ],
             [
              0.2222222222222222,
              "#7201a8"
             ],
             [
              0.3333333333333333,
              "#9c179e"
             ],
             [
              0.4444444444444444,
              "#bd3786"
             ],
             [
              0.5555555555555556,
              "#d8576b"
             ],
             [
              0.6666666666666666,
              "#ed7953"
             ],
             [
              0.7777777777777778,
              "#fb9f3a"
             ],
             [
              0.8888888888888888,
              "#fdca26"
             ],
             [
              1,
              "#f0f921"
             ]
            ],
            "type": "histogram2d"
           }
          ],
          "histogram2dcontour": [
           {
            "colorbar": {
             "outlinewidth": 0,
             "ticks": ""
            },
            "colorscale": [
             [
              0,
              "#0d0887"
             ],
             [
              0.1111111111111111,
              "#46039f"
             ],
             [
              0.2222222222222222,
              "#7201a8"
             ],
             [
              0.3333333333333333,
              "#9c179e"
             ],
             [
              0.4444444444444444,
              "#bd3786"
             ],
             [
              0.5555555555555556,
              "#d8576b"
             ],
             [
              0.6666666666666666,
              "#ed7953"
             ],
             [
              0.7777777777777778,
              "#fb9f3a"
             ],
             [
              0.8888888888888888,
              "#fdca26"
             ],
             [
              1,
              "#f0f921"
             ]
            ],
            "type": "histogram2dcontour"
           }
          ],
          "mesh3d": [
           {
            "colorbar": {
             "outlinewidth": 0,
             "ticks": ""
            },
            "type": "mesh3d"
           }
          ],
          "parcoords": [
           {
            "line": {
             "colorbar": {
              "outlinewidth": 0,
              "ticks": ""
             }
            },
            "type": "parcoords"
           }
          ],
          "pie": [
           {
            "automargin": true,
            "type": "pie"
           }
          ],
          "scatter": [
           {
            "marker": {
             "colorbar": {
              "outlinewidth": 0,
              "ticks": ""
             }
            },
            "type": "scatter"
           }
          ],
          "scatter3d": [
           {
            "line": {
             "colorbar": {
              "outlinewidth": 0,
              "ticks": ""
             }
            },
            "marker": {
             "colorbar": {
              "outlinewidth": 0,
              "ticks": ""
             }
            },
            "type": "scatter3d"
           }
          ],
          "scattercarpet": [
           {
            "marker": {
             "colorbar": {
              "outlinewidth": 0,
              "ticks": ""
             }
            },
            "type": "scattercarpet"
           }
          ],
          "scattergeo": [
           {
            "marker": {
             "colorbar": {
              "outlinewidth": 0,
              "ticks": ""
             }
            },
            "type": "scattergeo"
           }
          ],
          "scattergl": [
           {
            "marker": {
             "colorbar": {
              "outlinewidth": 0,
              "ticks": ""
             }
            },
            "type": "scattergl"
           }
          ],
          "scattermapbox": [
           {
            "marker": {
             "colorbar": {
              "outlinewidth": 0,
              "ticks": ""
             }
            },
            "type": "scattermapbox"
           }
          ],
          "scatterpolar": [
           {
            "marker": {
             "colorbar": {
              "outlinewidth": 0,
              "ticks": ""
             }
            },
            "type": "scatterpolar"
           }
          ],
          "scatterpolargl": [
           {
            "marker": {
             "colorbar": {
              "outlinewidth": 0,
              "ticks": ""
             }
            },
            "type": "scatterpolargl"
           }
          ],
          "scatterternary": [
           {
            "marker": {
             "colorbar": {
              "outlinewidth": 0,
              "ticks": ""
             }
            },
            "type": "scatterternary"
           }
          ],
          "surface": [
           {
            "colorbar": {
             "outlinewidth": 0,
             "ticks": ""
            },
            "colorscale": [
             [
              0,
              "#0d0887"
             ],
             [
              0.1111111111111111,
              "#46039f"
             ],
             [
              0.2222222222222222,
              "#7201a8"
             ],
             [
              0.3333333333333333,
              "#9c179e"
             ],
             [
              0.4444444444444444,
              "#bd3786"
             ],
             [
              0.5555555555555556,
              "#d8576b"
             ],
             [
              0.6666666666666666,
              "#ed7953"
             ],
             [
              0.7777777777777778,
              "#fb9f3a"
             ],
             [
              0.8888888888888888,
              "#fdca26"
             ],
             [
              1,
              "#f0f921"
             ]
            ],
            "type": "surface"
           }
          ],
          "table": [
           {
            "cells": {
             "fill": {
              "color": "#EBF0F8"
             },
             "line": {
              "color": "white"
             }
            },
            "header": {
             "fill": {
              "color": "#C8D4E3"
             },
             "line": {
              "color": "white"
             }
            },
            "type": "table"
           }
          ]
         },
         "layout": {
          "annotationdefaults": {
           "arrowcolor": "#2a3f5f",
           "arrowhead": 0,
           "arrowwidth": 1
          },
          "autotypenumbers": "strict",
          "coloraxis": {
           "colorbar": {
            "outlinewidth": 0,
            "ticks": ""
           }
          },
          "colorscale": {
           "diverging": [
            [
             0,
             "#8e0152"
            ],
            [
             0.1,
             "#c51b7d"
            ],
            [
             0.2,
             "#de77ae"
            ],
            [
             0.3,
             "#f1b6da"
            ],
            [
             0.4,
             "#fde0ef"
            ],
            [
             0.5,
             "#f7f7f7"
            ],
            [
             0.6,
             "#e6f5d0"
            ],
            [
             0.7,
             "#b8e186"
            ],
            [
             0.8,
             "#7fbc41"
            ],
            [
             0.9,
             "#4d9221"
            ],
            [
             1,
             "#276419"
            ]
           ],
           "sequential": [
            [
             0,
             "#0d0887"
            ],
            [
             0.1111111111111111,
             "#46039f"
            ],
            [
             0.2222222222222222,
             "#7201a8"
            ],
            [
             0.3333333333333333,
             "#9c179e"
            ],
            [
             0.4444444444444444,
             "#bd3786"
            ],
            [
             0.5555555555555556,
             "#d8576b"
            ],
            [
             0.6666666666666666,
             "#ed7953"
            ],
            [
             0.7777777777777778,
             "#fb9f3a"
            ],
            [
             0.8888888888888888,
             "#fdca26"
            ],
            [
             1,
             "#f0f921"
            ]
           ],
           "sequentialminus": [
            [
             0,
             "#0d0887"
            ],
            [
             0.1111111111111111,
             "#46039f"
            ],
            [
             0.2222222222222222,
             "#7201a8"
            ],
            [
             0.3333333333333333,
             "#9c179e"
            ],
            [
             0.4444444444444444,
             "#bd3786"
            ],
            [
             0.5555555555555556,
             "#d8576b"
            ],
            [
             0.6666666666666666,
             "#ed7953"
            ],
            [
             0.7777777777777778,
             "#fb9f3a"
            ],
            [
             0.8888888888888888,
             "#fdca26"
            ],
            [
             1,
             "#f0f921"
            ]
           ]
          },
          "colorway": [
           "#636efa",
           "#EF553B",
           "#00cc96",
           "#ab63fa",
           "#FFA15A",
           "#19d3f3",
           "#FF6692",
           "#B6E880",
           "#FF97FF",
           "#FECB52"
          ],
          "font": {
           "color": "#2a3f5f"
          },
          "geo": {
           "bgcolor": "white",
           "lakecolor": "white",
           "landcolor": "#E5ECF6",
           "showlakes": true,
           "showland": true,
           "subunitcolor": "white"
          },
          "hoverlabel": {
           "align": "left"
          },
          "hovermode": "closest",
          "mapbox": {
           "style": "light"
          },
          "paper_bgcolor": "white",
          "plot_bgcolor": "#E5ECF6",
          "polar": {
           "angularaxis": {
            "gridcolor": "white",
            "linecolor": "white",
            "ticks": ""
           },
           "bgcolor": "#E5ECF6",
           "radialaxis": {
            "gridcolor": "white",
            "linecolor": "white",
            "ticks": ""
           }
          },
          "scene": {
           "xaxis": {
            "backgroundcolor": "#E5ECF6",
            "gridcolor": "white",
            "gridwidth": 2,
            "linecolor": "white",
            "showbackground": true,
            "ticks": "",
            "zerolinecolor": "white"
           },
           "yaxis": {
            "backgroundcolor": "#E5ECF6",
            "gridcolor": "white",
            "gridwidth": 2,
            "linecolor": "white",
            "showbackground": true,
            "ticks": "",
            "zerolinecolor": "white"
           },
           "zaxis": {
            "backgroundcolor": "#E5ECF6",
            "gridcolor": "white",
            "gridwidth": 2,
            "linecolor": "white",
            "showbackground": true,
            "ticks": "",
            "zerolinecolor": "white"
           }
          },
          "shapedefaults": {
           "line": {
            "color": "#2a3f5f"
           }
          },
          "ternary": {
           "aaxis": {
            "gridcolor": "white",
            "linecolor": "white",
            "ticks": ""
           },
           "baxis": {
            "gridcolor": "white",
            "linecolor": "white",
            "ticks": ""
           },
           "bgcolor": "#E5ECF6",
           "caxis": {
            "gridcolor": "white",
            "linecolor": "white",
            "ticks": ""
           }
          },
          "title": {
           "x": 0.05
          },
          "xaxis": {
           "automargin": true,
           "gridcolor": "white",
           "linecolor": "white",
           "ticks": "",
           "title": {
            "standoff": 15
           },
           "zerolinecolor": "white",
           "zerolinewidth": 2
          },
          "yaxis": {
           "automargin": true,
           "gridcolor": "white",
           "linecolor": "white",
           "ticks": "",
           "title": {
            "standoff": 15
           },
           "zerolinecolor": "white",
           "zerolinewidth": 2
          }
         }
        },
        "xaxis": {
         "anchor": "y",
         "domain": [
          0,
          1
         ],
         "title": {
          "text": "IMDb"
         }
        },
        "yaxis": {
         "anchor": "x",
         "domain": [
          0,
          1
         ],
         "title": {
          "text": "Rotten Tomatoes"
         }
        }
       }
      },
      "text/html": [
       "<div>                            <div id=\"ddf53f4d-435c-473e-b76b-e79f079c88c8\" class=\"plotly-graph-div\" style=\"height:525px; width:100%;\"></div>            <script type=\"text/javascript\">                require([\"plotly\"], function(Plotly) {                    window.PLOTLYENV=window.PLOTLYENV || {};                                    if (document.getElementById(\"ddf53f4d-435c-473e-b76b-e79f079c88c8\")) {                    Plotly.newPlot(                        \"ddf53f4d-435c-473e-b76b-e79f079c88c8\",                        [{\"hovertemplate\": \"StreamingOn=Netflix<br>IMDb=%{x}<br>Rotten Tomatoes=%{y}<extra></extra>\", \"legendgroup\": \"Netflix\", \"marker\": {\"color\": \"#636efa\", \"symbol\": \"circle\"}, \"mode\": \"markers\", \"name\": \"Netflix\", \"orientation\": \"v\", \"showlegend\": true, \"type\": \"scatter\", \"x\": [8800, 8400, 8700, 8900, 8800, 8400, 8200, 8400, 8800, 8600, 8300, 8800, 8400, 8600, 8200, 8700, 8000, 7700, 8400, 8200, 7600, 8100, 8700, 7700, 8700, 7600, 8700, 8000, 8200, 8100, 8400, 8100, 7400, 8400, 7600, 8500, 7800, 8600, 8000, 8000, 7900, 8500, 8400, 8100, 8800, 8200, 8300, 8200, 9300, 7800, 7600, 7900, 7700, 8100, 7900, 8000, 8300, 8000, 7800, 8300, 7300, 7700, 8200, 6800, 8100, 7100, 7400, 7800, 8200, 7800, 7800, 8500, 8300, 7300, 7700, 8400, 7500, 8100, 8100, 7300, 8400, 7200, 8300, 7300, 7900, 8000, 8500, 7500, 7900, 7800, 7700, 7200, 8400, 8200, 7500, 8500, 7700, 8100, 8100, 7700, 7400, 8100, 8200, 7700, 8400, 7900, 6700, 6800, 7300, 6500, 8000, 7500, 8300, 7800, 7100, 7000, 7300, 7300, 7500, 7400, 7600, 7200, 7500, 7000, 7700, 7700, 7400, 6100, 8500, 7500, 6000, 7400, 6600, 6600, 7600, 7400, 7900, 8000, 6400, 7100, 6400, 7900, 7900, 7600, 7600, 6200, 7600, 7100, 6100, 7200, 7400, 6500, 6300, 7400, 7400, 6500, 6100, 7500, 6400, 8200, 7200, 7000, 5900, 7400, 6700, 7400, 6600, 7300, 7300, 7000, 6500, 7600, 7200, 6500, 7000, 6700, 6600, 7300, 6000, 6300, 5800, 3800, 6800, 6500, 7100, 7000, 7700, 6900, 3600, 6100, 6400, 5200, 5700, 2300, 5800], \"xaxis\": \"x\", \"y\": [93, 91, 97, 81, 83, 93, 81, 81, 89, 93, 67, 89, 91, 85, 97, 93, 91, 89, 91, 87, 83, 93, 75, 85, 89, 97, 93, 97, 91, 91, 93, 71, 81, 97, 85, 87, 91, 89, 95, 83, 77, 63, 99, 93, 75, 93, 87, 93, 93, 77, 85, 87, 85, 85, 91, 83, 89, 93, 39, 85, 75, 93, 99, 87, 93, 75, 67, 99, 97, 89, 85, 87, 95, 87, 57, 97, 89, 97, 69, 89, 89, 83, 89, 95, 85, 67, 91, 71, 97, 77, 57, 77, 95, 91, 63, 91, 81, 67, 81, 65, 93, 89, 27, 81, 45, 93, 71, 81, 77, 37, 65, 93, 97, 97, 83, 85, 97, 57, 57, 65, 91, 75, 77, 51, 77, 63, 75, 95, 93, 61, 73, 33, 51, 11, 95, 77, 93, 95, 83, 77, 75, 75, 83, 39, 95, 95, 67, 71, 55, 77, 73, 47, 81, 97, 89, 75, 33, 91, 73, 95, 35, 75, 35, 93, 77, 79, 79, 83, 33, 73, 41, 63, 79, 37, 75, 19, 67, 67, 63, 67, 77, 71, 33, 57, 83, 71, 43, 67, 75, 41, 37, 81, 17, 31, 41], \"yaxis\": \"y\"}, {\"hovertemplate\": \"StreamingOn=Hulu<br>IMDb=%{x}<br>Rotten Tomatoes=%{y}<extra></extra>\", \"legendgroup\": \"Hulu\", \"marker\": {\"color\": \"#EF553B\", \"symbol\": \"circle\"}, \"mode\": \"markers\", \"name\": \"Hulu\", \"orientation\": \"v\", \"showlegend\": true, \"type\": \"scatter\", \"x\": [8600, 8800, 8200, 7600, 8700, 8100, 7400, 8600, 7900, 7800, 6600, 6000, 8500, 8400, 8700, 8300, 9000, 8700, 8300, 8400, 8600, 8400, 8600, 8600, 8300, 8600, 8700, 8100, 8200, 8300, 7900, 8600, 8800, 7700, 8000, 8600, 8200, 8000, 8000, 8500, 7800, 7500, 7800, 7800, 8300, 8400, 8100, 8800, 7700, 7600, 8100, 7500, 7400, 8000, 7800, 7300, 8200, 7000, 7700, 8000, 8400, 8100, 8100, 7600, 7700, 6900, 8000, 8200, 7400, 7900, 7400, 8300, 8000, 8300, 7300, 7200, 7600, 6500, 7100, 6700, 7800, 7400, 8300, 8000, 7300, 6900, 7100, 7900, 8000, 7600, 8200, 7500, 7800, 7900, 7700, 6800, 8400, 7900, 6700, 7900, 7100, 7700, 7500, 7800, 7400, 7300, 7500, 7000, 7500, 7300, 7300, 7700, 6700, 7600, 7000, 8100, 7200, 6900, 7300, 7500, 7700, 7600, 7000, 7000, 7400, 6700, 7400, 7000, 5300, 7300, 7100, 7600, 6200, 6200, 7500, 7400, 8100, 7900, 7700, 6200, 7400, 5600, 6700, 6700, 5900, 6200, 4900, 6900, 7700, 4100, 5900, 7600, 6400, 6200, 7200, 7000, 5700, 7900, 6600, 7000, 6700, 5600, 5700, 7400, 4300, 6300, 6600, 6400, 7300, 4200], \"xaxis\": \"x\", \"y\": [93, 89, 97, 83, 75, 71, 81, 89, 87, 77, 51, 63, 93, 97, 85, 85, 85, 81, 83, 95, 87, 97, 91, 97, 83, 75, 97, 91, 85, 91, 95, 97, 83, 81, 93, 97, 69, 87, 65, 83, 69, 91, 81, 99, 85, 99, 87, 97, 91, 87, 95, 83, 95, 87, 91, 79, 81, 87, 77, 89, 87, 91, 89, 85, 97, 73, 97, 89, 79, 89, 77, 89, 81, 97, 89, 57, 75, 97, 91, 87, 83, 61, 95, 97, 85, 89, 75, 75, 67, 65, 91, 79, 81, 53, 93, 61, 95, 93, 77, 75, 83, 75, 75, 95, 87, 77, 93, 75, 59, 85, 73, 97, 91, 73, 67, 67, 67, 73, 41, 77, 67, 73, 95, 39, 91, 67, 51, 65, 89, 77, 43, 83, 59, 59, 81, 43, 83, 81, 83, 73, 33, 89, 9, 39, 77, 47, 43, 11, 93, 17, 33, 67, 81, 93, 83, 79, 93, 73, 89, 67, 23, 67, 67, 85, 25, 9, 21, 25, 83, 67], \"yaxis\": \"y\"}, {\"hovertemplate\": \"StreamingOn=Prime Video<br>IMDb=%{x}<br>Rotten Tomatoes=%{y}<extra></extra>\", \"legendgroup\": \"Prime Video\", \"marker\": {\"color\": \"#00cc96\", \"symbol\": \"circle\"}, \"mode\": \"markers\", \"name\": \"Prime Video\", \"orientation\": \"v\", \"showlegend\": true, \"type\": \"scatter\", \"x\": [8600, 8600, 8300, 7800, 8400, 7000, 6400, 8500, 8200, 8500, 7500, 8100, 6900, 8000, 7600, 8500, 8400, 8700, 8300, 8700, 8200, 8200, 8300, 8300, 8400, 8700, 8100, 7600, 8300, 7800, 8100, 8600, 8300, 8700, 8200, 7900, 8200, 8600, 8300, 7300, 8500, 7100, 8200, 8000, 8000, 8100, 7500, 8100, 7000, 7900, 7400, 7900, 7400, 8100, 7700, 8200, 7300, 7800, 6600, 7100, 7500, 6400, 7300, 7400, 7900, 6900, 7500, 7900, 8200, 7500, 7400, 6900, 7900, 7200, 7300, 7200, 7400, 7700, 6900, 6100, 6700, 7000, 8500, 6100, 6200, 6400, 6600, 6200, 6700, 6300, 6600, 6400, 5900, 6600, 7500, 7200, 3800, 4800, 6100], \"xaxis\": \"x\", \"y\": [93, 89, 89, 77, 45, 51, 73, 93, 85, 83, 91, 87, 89, 67, 67, 93, 97, 89, 93, 81, 81, 89, 89, 93, 89, 89, 71, 81, 91, 89, 91, 59, 57, 85, 93, 57, 91, 93, 87, 89, 81, 71, 77, 89, 75, 81, 67, 97, 77, 93, 95, 79, 77, 65, 95, 87, 91, 91, 77, 71, 87, 77, 57, 69, 95, 95, 53, 79, 73, 79, 81, 67, 45, 83, 83, 87, 73, 83, 59, 79, 65, 85, 97, 79, 87, 57, 63, 57, 19, 33, 17, 75, 71, 63, 47, 37, 35, 15, 63], \"yaxis\": \"y\"}, {\"hovertemplate\": \"StreamingOn=Disney+<br>IMDb=%{x}<br>Rotten Tomatoes=%{y}<extra></extra>\", \"legendgroup\": \"Disney+\", \"marker\": {\"color\": \"#ab63fa\", \"symbol\": \"circle\"}, \"mode\": \"markers\", \"name\": \"Disney+\", \"orientation\": \"v\", \"showlegend\": true, \"type\": \"scatter\", \"x\": [8700, 7000, 8700, 8200, 8400, 8800, 7300, 8000, 8000, 5000], \"xaxis\": \"x\", \"y\": [85, 87, 93, 93, 85, 83, 79, 67, 83, 11], \"yaxis\": \"y\"}],                        {\"legend\": {\"title\": {\"text\": \"StreamingOn\"}, \"tracegroupgap\": 0}, \"margin\": {\"t\": 60}, \"template\": {\"data\": {\"bar\": [{\"error_x\": {\"color\": \"#2a3f5f\"}, \"error_y\": {\"color\": \"#2a3f5f\"}, \"marker\": {\"line\": {\"color\": \"#E5ECF6\", \"width\": 0.5}}, \"type\": \"bar\"}], \"barpolar\": [{\"marker\": {\"line\": {\"color\": \"#E5ECF6\", \"width\": 0.5}}, \"type\": \"barpolar\"}], \"carpet\": [{\"aaxis\": {\"endlinecolor\": \"#2a3f5f\", \"gridcolor\": \"white\", \"linecolor\": \"white\", \"minorgridcolor\": \"white\", \"startlinecolor\": \"#2a3f5f\"}, \"baxis\": {\"endlinecolor\": \"#2a3f5f\", \"gridcolor\": \"white\", \"linecolor\": \"white\", \"minorgridcolor\": \"white\", \"startlinecolor\": \"#2a3f5f\"}, \"type\": \"carpet\"}], \"choropleth\": [{\"colorbar\": {\"outlinewidth\": 0, \"ticks\": \"\"}, \"type\": \"choropleth\"}], \"contour\": [{\"colorbar\": {\"outlinewidth\": 0, \"ticks\": \"\"}, \"colorscale\": [[0.0, \"#0d0887\"], [0.1111111111111111, \"#46039f\"], [0.2222222222222222, \"#7201a8\"], [0.3333333333333333, \"#9c179e\"], [0.4444444444444444, \"#bd3786\"], [0.5555555555555556, \"#d8576b\"], [0.6666666666666666, \"#ed7953\"], [0.7777777777777778, \"#fb9f3a\"], [0.8888888888888888, \"#fdca26\"], [1.0, \"#f0f921\"]], \"type\": \"contour\"}], \"contourcarpet\": [{\"colorbar\": {\"outlinewidth\": 0, \"ticks\": \"\"}, \"type\": \"contourcarpet\"}], \"heatmap\": [{\"colorbar\": {\"outlinewidth\": 0, \"ticks\": \"\"}, \"colorscale\": [[0.0, \"#0d0887\"], [0.1111111111111111, \"#46039f\"], [0.2222222222222222, \"#7201a8\"], [0.3333333333333333, \"#9c179e\"], [0.4444444444444444, \"#bd3786\"], [0.5555555555555556, \"#d8576b\"], [0.6666666666666666, \"#ed7953\"], [0.7777777777777778, \"#fb9f3a\"], [0.8888888888888888, \"#fdca26\"], [1.0, \"#f0f921\"]], \"type\": \"heatmap\"}], \"heatmapgl\": [{\"colorbar\": {\"outlinewidth\": 0, \"ticks\": \"\"}, \"colorscale\": [[0.0, \"#0d0887\"], [0.1111111111111111, \"#46039f\"], [0.2222222222222222, \"#7201a8\"], [0.3333333333333333, \"#9c179e\"], [0.4444444444444444, \"#bd3786\"], [0.5555555555555556, \"#d8576b\"], [0.6666666666666666, \"#ed7953\"], [0.7777777777777778, \"#fb9f3a\"], [0.8888888888888888, \"#fdca26\"], [1.0, \"#f0f921\"]], \"type\": \"heatmapgl\"}], \"histogram\": [{\"marker\": {\"colorbar\": {\"outlinewidth\": 0, \"ticks\": \"\"}}, \"type\": \"histogram\"}], \"histogram2d\": [{\"colorbar\": {\"outlinewidth\": 0, \"ticks\": \"\"}, \"colorscale\": [[0.0, \"#0d0887\"], [0.1111111111111111, \"#46039f\"], [0.2222222222222222, \"#7201a8\"], [0.3333333333333333, \"#9c179e\"], [0.4444444444444444, \"#bd3786\"], [0.5555555555555556, \"#d8576b\"], [0.6666666666666666, \"#ed7953\"], [0.7777777777777778, \"#fb9f3a\"], [0.8888888888888888, \"#fdca26\"], [1.0, \"#f0f921\"]], \"type\": \"histogram2d\"}], \"histogram2dcontour\": [{\"colorbar\": {\"outlinewidth\": 0, \"ticks\": \"\"}, \"colorscale\": [[0.0, \"#0d0887\"], [0.1111111111111111, \"#46039f\"], [0.2222222222222222, \"#7201a8\"], [0.3333333333333333, \"#9c179e\"], [0.4444444444444444, \"#bd3786\"], [0.5555555555555556, \"#d8576b\"], [0.6666666666666666, \"#ed7953\"], [0.7777777777777778, \"#fb9f3a\"], [0.8888888888888888, \"#fdca26\"], [1.0, \"#f0f921\"]], \"type\": \"histogram2dcontour\"}], \"mesh3d\": [{\"colorbar\": {\"outlinewidth\": 0, \"ticks\": \"\"}, \"type\": \"mesh3d\"}], \"parcoords\": [{\"line\": {\"colorbar\": {\"outlinewidth\": 0, \"ticks\": \"\"}}, \"type\": \"parcoords\"}], \"pie\": [{\"automargin\": true, \"type\": \"pie\"}], \"scatter\": [{\"marker\": {\"colorbar\": {\"outlinewidth\": 0, \"ticks\": \"\"}}, \"type\": \"scatter\"}], \"scatter3d\": [{\"line\": {\"colorbar\": {\"outlinewidth\": 0, \"ticks\": \"\"}}, \"marker\": {\"colorbar\": {\"outlinewidth\": 0, \"ticks\": \"\"}}, \"type\": \"scatter3d\"}], \"scattercarpet\": [{\"marker\": {\"colorbar\": {\"outlinewidth\": 0, \"ticks\": \"\"}}, \"type\": \"scattercarpet\"}], \"scattergeo\": [{\"marker\": {\"colorbar\": {\"outlinewidth\": 0, \"ticks\": \"\"}}, \"type\": \"scattergeo\"}], \"scattergl\": [{\"marker\": {\"colorbar\": {\"outlinewidth\": 0, \"ticks\": \"\"}}, \"type\": \"scattergl\"}], \"scattermapbox\": [{\"marker\": {\"colorbar\": {\"outlinewidth\": 0, \"ticks\": \"\"}}, \"type\": \"scattermapbox\"}], \"scatterpolar\": [{\"marker\": {\"colorbar\": {\"outlinewidth\": 0, \"ticks\": \"\"}}, \"type\": \"scatterpolar\"}], \"scatterpolargl\": [{\"marker\": {\"colorbar\": {\"outlinewidth\": 0, \"ticks\": \"\"}}, \"type\": \"scatterpolargl\"}], \"scatterternary\": [{\"marker\": {\"colorbar\": {\"outlinewidth\": 0, \"ticks\": \"\"}}, \"type\": \"scatterternary\"}], \"surface\": [{\"colorbar\": {\"outlinewidth\": 0, \"ticks\": \"\"}, \"colorscale\": [[0.0, \"#0d0887\"], [0.1111111111111111, \"#46039f\"], [0.2222222222222222, \"#7201a8\"], [0.3333333333333333, \"#9c179e\"], [0.4444444444444444, \"#bd3786\"], [0.5555555555555556, \"#d8576b\"], [0.6666666666666666, \"#ed7953\"], [0.7777777777777778, \"#fb9f3a\"], [0.8888888888888888, \"#fdca26\"], [1.0, \"#f0f921\"]], \"type\": \"surface\"}], \"table\": [{\"cells\": {\"fill\": {\"color\": \"#EBF0F8\"}, \"line\": {\"color\": \"white\"}}, \"header\": {\"fill\": {\"color\": \"#C8D4E3\"}, \"line\": {\"color\": \"white\"}}, \"type\": \"table\"}]}, \"layout\": {\"annotationdefaults\": {\"arrowcolor\": \"#2a3f5f\", \"arrowhead\": 0, \"arrowwidth\": 1}, \"autotypenumbers\": \"strict\", \"coloraxis\": {\"colorbar\": {\"outlinewidth\": 0, \"ticks\": \"\"}}, \"colorscale\": {\"diverging\": [[0, \"#8e0152\"], [0.1, \"#c51b7d\"], [0.2, \"#de77ae\"], [0.3, \"#f1b6da\"], [0.4, \"#fde0ef\"], [0.5, \"#f7f7f7\"], [0.6, \"#e6f5d0\"], [0.7, \"#b8e186\"], [0.8, \"#7fbc41\"], [0.9, \"#4d9221\"], [1, \"#276419\"]], \"sequential\": [[0.0, \"#0d0887\"], [0.1111111111111111, \"#46039f\"], [0.2222222222222222, \"#7201a8\"], [0.3333333333333333, \"#9c179e\"], [0.4444444444444444, \"#bd3786\"], [0.5555555555555556, \"#d8576b\"], [0.6666666666666666, \"#ed7953\"], [0.7777777777777778, \"#fb9f3a\"], [0.8888888888888888, \"#fdca26\"], [1.0, \"#f0f921\"]], \"sequentialminus\": [[0.0, \"#0d0887\"], [0.1111111111111111, \"#46039f\"], [0.2222222222222222, \"#7201a8\"], [0.3333333333333333, \"#9c179e\"], [0.4444444444444444, \"#bd3786\"], [0.5555555555555556, \"#d8576b\"], [0.6666666666666666, \"#ed7953\"], [0.7777777777777778, \"#fb9f3a\"], [0.8888888888888888, \"#fdca26\"], [1.0, \"#f0f921\"]]}, \"colorway\": [\"#636efa\", \"#EF553B\", \"#00cc96\", \"#ab63fa\", \"#FFA15A\", \"#19d3f3\", \"#FF6692\", \"#B6E880\", \"#FF97FF\", \"#FECB52\"], \"font\": {\"color\": \"#2a3f5f\"}, \"geo\": {\"bgcolor\": \"white\", \"lakecolor\": \"white\", \"landcolor\": \"#E5ECF6\", \"showlakes\": true, \"showland\": true, \"subunitcolor\": \"white\"}, \"hoverlabel\": {\"align\": \"left\"}, \"hovermode\": \"closest\", \"mapbox\": {\"style\": \"light\"}, \"paper_bgcolor\": \"white\", \"plot_bgcolor\": \"#E5ECF6\", \"polar\": {\"angularaxis\": {\"gridcolor\": \"white\", \"linecolor\": \"white\", \"ticks\": \"\"}, \"bgcolor\": \"#E5ECF6\", \"radialaxis\": {\"gridcolor\": \"white\", \"linecolor\": \"white\", \"ticks\": \"\"}}, \"scene\": {\"xaxis\": {\"backgroundcolor\": \"#E5ECF6\", \"gridcolor\": \"white\", \"gridwidth\": 2, \"linecolor\": \"white\", \"showbackground\": true, \"ticks\": \"\", \"zerolinecolor\": \"white\"}, \"yaxis\": {\"backgroundcolor\": \"#E5ECF6\", \"gridcolor\": \"white\", \"gridwidth\": 2, \"linecolor\": \"white\", \"showbackground\": true, \"ticks\": \"\", \"zerolinecolor\": \"white\"}, \"zaxis\": {\"backgroundcolor\": \"#E5ECF6\", \"gridcolor\": \"white\", \"gridwidth\": 2, \"linecolor\": \"white\", \"showbackground\": true, \"ticks\": \"\", \"zerolinecolor\": \"white\"}}, \"shapedefaults\": {\"line\": {\"color\": \"#2a3f5f\"}}, \"ternary\": {\"aaxis\": {\"gridcolor\": \"white\", \"linecolor\": \"white\", \"ticks\": \"\"}, \"baxis\": {\"gridcolor\": \"white\", \"linecolor\": \"white\", \"ticks\": \"\"}, \"bgcolor\": \"#E5ECF6\", \"caxis\": {\"gridcolor\": \"white\", \"linecolor\": \"white\", \"ticks\": \"\"}}, \"title\": {\"x\": 0.05}, \"xaxis\": {\"automargin\": true, \"gridcolor\": \"white\", \"linecolor\": \"white\", \"ticks\": \"\", \"title\": {\"standoff\": 15}, \"zerolinecolor\": \"white\", \"zerolinewidth\": 2}, \"yaxis\": {\"automargin\": true, \"gridcolor\": \"white\", \"linecolor\": \"white\", \"ticks\": \"\", \"title\": {\"standoff\": 15}, \"zerolinecolor\": \"white\", \"zerolinewidth\": 2}}}, \"xaxis\": {\"anchor\": \"y\", \"domain\": [0.0, 1.0], \"title\": {\"text\": \"IMDb\"}}, \"yaxis\": {\"anchor\": \"x\", \"domain\": [0.0, 1.0], \"title\": {\"text\": \"Rotten Tomatoes\"}}},                        {\"responsive\": true}                    ).then(function(){\n",
       "                            \n",
       "var gd = document.getElementById('ddf53f4d-435c-473e-b76b-e79f079c88c8');\n",
       "var x = new MutationObserver(function (mutations, observer) {{\n",
       "        var display = window.getComputedStyle(gd).display;\n",
       "        if (!display || display === 'none') {{\n",
       "            console.log([gd, 'removed!']);\n",
       "            Plotly.purge(gd);\n",
       "            observer.disconnect();\n",
       "        }}\n",
       "}});\n",
       "\n",
       "// Listen for the removal of the full notebook cells\n",
       "var notebookContainer = gd.closest('#notebook-container');\n",
       "if (notebookContainer) {{\n",
       "    x.observe(notebookContainer, {childList: true});\n",
       "}}\n",
       "\n",
       "// Listen for the clearing of the current output cell\n",
       "var outputEl = gd.closest('.output');\n",
       "if (outputEl) {{\n",
       "    x.observe(outputEl, {childList: true});\n",
       "}}\n",
       "\n",
       "                        })                };                });            </script>        </div>"
      ]
     },
     "metadata": {},
     "output_type": "display_data"
    }
   ],
   "source": [
    "px.scatter(tv_shows_both_ratings, x='IMDb',\n",
    "          y='Rotten Tomatoes', color='StreamingOn')"
   ]
  },
  {
   "cell_type": "code",
   "execution_count": null,
   "metadata": {},
   "outputs": [],
   "source": []
  }
 ],
 "metadata": {
  "kernelspec": {
   "display_name": "Python 3",
   "language": "python",
   "name": "python3"
  },
  "language_info": {
   "codemirror_mode": {
    "name": "ipython",
    "version": 3
   },
   "file_extension": ".py",
   "mimetype": "text/x-python",
   "name": "python",
   "nbconvert_exporter": "python",
   "pygments_lexer": "ipython3",
   "version": "3.7.3"
  }
 },
 "nbformat": 4,
 "nbformat_minor": 2
}
